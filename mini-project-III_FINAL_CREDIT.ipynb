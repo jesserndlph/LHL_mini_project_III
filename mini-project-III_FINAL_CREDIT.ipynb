{
 "cells": [
  {
   "cell_type": "markdown",
   "metadata": {},
   "source": [
    "## Mini Project III"
   ]
  },
  {
   "cell_type": "markdown",
   "metadata": {},
   "source": [
    "# mini-project-III\n",
    "Repo with the instructions for the Mini Project III.\n",
    "\n",
    "\n",
    "### Topics\n",
    "This mini project is dedicated to following topics:\n",
    "- Data Wrangling\n",
    "- Data Visualization\n",
    "- Data Preparation and Feature Engineering\n",
    "- Dimensionality Reduction\n",
    "- Unsupervised Learning\n",
    "\n",
    "### Data\n",
    "We will be using old data about different financial transactions. You can download the data from [here](https://drive.google.com/file/d/1zAjnf936aHkwVCq_BmA47p4lpRjyRzMf/view?usp=sharing). The data contains following tables:\n",
    "\n",
    "- twm_customer - information about customers\n",
    "- twm_accounts - information about accounts\n",
    "- twm_checking_accounts - information about checking accounts (subset of twm_accounts)\n",
    "- twm_credit_accounts - information about checking accounts (subset of twm_accounts)\n",
    "- twm_savings_accounts - information about checking accounts (subset of twm_accounts)\n",
    "- twm_transactions - information about financial transactions\n",
    "- twm_savings_tran - information about savings transactions (subset of twm_transactions)\n",
    "- twm_checking_tran - information about savings transactions (subset of twm_transactions)\n",
    "- twm_credit_tran - information about credit checking (subset of twm_transactions)\n",
    "\n",
    "\n",
    "### Output\n",
    "\n",
    "In this miniproject, we will:\n",
    "\n",
    "1.  create two separate customer segmentations (using clustering) to split them into 3-5 clusters: \n",
    "    - based on demographics (only on the information from twm_customer)\n",
    "    - based on their banking behavior. We can take following things into consideration as banking behavior:\n",
    "        - do they have savings account? How much do they save?\n",
    "        - do they have credit account? How much do they live in debt?\n",
    "        - are they making lot of small transactions or few huge ones?\n",
    "2. visualize the created clusters using [radar charts](https://plotly.com/python/radar-chart/) and compare them agains each other\n",
    "3. visualize segmentations using scatter plot. We will have to use PCA to be able to plot our observations in 2D.\n",
    "4. (stretch) visualize in 2D how our clusters are evolving in each iteration of KMeans (for at least 20 iterations).\n",
    "    - we will need to create own implementation of kmeans so we can see what is happening with the clusters during the iterations.\n"
   ]
  },
  {
   "cell_type": "code",
   "execution_count": 166,
   "metadata": {},
   "outputs": [],
   "source": [
    "# Importing Libraries\n",
    "import pandas as pd\n",
    "import numpy as np\n",
    "from sklearn.cluster import KMeans\n",
    "from sklearn.preprocessing import StandardScaler\n",
    "from sklearn.preprocessing import LabelEncoder\n",
    "from sklearn.preprocessing import MinMaxScaler\n",
    "import matplotlib.pyplot as plt\n",
    "from functools import reduce\n",
    "from sklearn import preprocessing"
   ]
  },
  {
   "cell_type": "code",
   "execution_count": 167,
   "metadata": {},
   "outputs": [],
   "source": [
    "twm_accounts = pd.read_csv('twm_accounts.csv',sep=';')\n",
    "twm_checking_acct = pd.read_csv('twm_checking_acct.csv',sep=';')\n",
    "twm_checking_tran = pd.read_csv('twm_checking_tran.csv',sep=';')\n",
    "twm_credit_acct = pd.read_csv('twm_credit_acct.csv',sep=';')\n",
    "twm_credit_tran = pd.read_csv('twm_credit_tran.csv',sep=';')\n",
    "twm_customer = pd.read_csv('twm_customer.csv',sep=';')\n",
    "twm_savings_acct = pd.read_csv('twm_savings_acct.csv',sep=';')\n",
    "twm_savings_tran = pd.read_csv('twm_savings_tran.csv',sep=';')\n",
    "twm_transactions = pd.read_csv('twm_transactions.csv',sep=';')"
   ]
  },
  {
   "cell_type": "markdown",
   "metadata": {},
   "source": [
    "# CUSTOMER INCOME"
   ]
  },
  {
   "cell_type": "code",
   "execution_count": 168,
   "metadata": {},
   "outputs": [
    {
     "data": {
      "text/html": [
       "<div>\n",
       "<style scoped>\n",
       "    .dataframe tbody tr th:only-of-type {\n",
       "        vertical-align: middle;\n",
       "    }\n",
       "\n",
       "    .dataframe tbody tr th {\n",
       "        vertical-align: top;\n",
       "    }\n",
       "\n",
       "    .dataframe thead th {\n",
       "        text-align: right;\n",
       "    }\n",
       "</style>\n",
       "<table border=\"1\" class=\"dataframe\">\n",
       "  <thead>\n",
       "    <tr style=\"text-align: right;\">\n",
       "      <th></th>\n",
       "      <th>cust_id</th>\n",
       "      <th>income</th>\n",
       "      <th>age</th>\n",
       "      <th>years_with_bank</th>\n",
       "      <th>nbr_children</th>\n",
       "      <th>gender</th>\n",
       "      <th>marital_status</th>\n",
       "      <th>name_prefix</th>\n",
       "      <th>first_name</th>\n",
       "      <th>last_name</th>\n",
       "      <th>street_nbr</th>\n",
       "      <th>street_name</th>\n",
       "      <th>postal_code</th>\n",
       "      <th>city_name</th>\n",
       "      <th>state_code</th>\n",
       "    </tr>\n",
       "  </thead>\n",
       "  <tbody>\n",
       "    <tr>\n",
       "      <th>0</th>\n",
       "      <td>1362691</td>\n",
       "      <td>26150</td>\n",
       "      <td>46</td>\n",
       "      <td>5</td>\n",
       "      <td>1</td>\n",
       "      <td>M</td>\n",
       "      <td>2</td>\n",
       "      <td></td>\n",
       "      <td>Donald                                        ...</td>\n",
       "      <td>Marek                                         ...</td>\n",
       "      <td>8298</td>\n",
       "      <td>Second                                        ...</td>\n",
       "      <td>89194</td>\n",
       "      <td>Las Vegas</td>\n",
       "      <td>NV</td>\n",
       "    </tr>\n",
       "    <tr>\n",
       "      <th>1</th>\n",
       "      <td>1362487</td>\n",
       "      <td>6605</td>\n",
       "      <td>71</td>\n",
       "      <td>1</td>\n",
       "      <td>0</td>\n",
       "      <td>M</td>\n",
       "      <td>2</td>\n",
       "      <td></td>\n",
       "      <td>ChingDyi                                      ...</td>\n",
       "      <td>Moussavi                                      ...</td>\n",
       "      <td>10603</td>\n",
       "      <td>Daffodil                                      ...</td>\n",
       "      <td>90159</td>\n",
       "      <td>Los Angeles</td>\n",
       "      <td>CA</td>\n",
       "    </tr>\n",
       "    <tr>\n",
       "      <th>2</th>\n",
       "      <td>1363160</td>\n",
       "      <td>18548</td>\n",
       "      <td>38</td>\n",
       "      <td>8</td>\n",
       "      <td>0</td>\n",
       "      <td>F</td>\n",
       "      <td>1</td>\n",
       "      <td></td>\n",
       "      <td>Rosa                                          ...</td>\n",
       "      <td>Johnston                                      ...</td>\n",
       "      <td>8817</td>\n",
       "      <td>Figueroa                                      ...</td>\n",
       "      <td>90024</td>\n",
       "      <td>Los Angeles</td>\n",
       "      <td>CA</td>\n",
       "    </tr>\n",
       "    <tr>\n",
       "      <th>3</th>\n",
       "      <td>1362752</td>\n",
       "      <td>47668</td>\n",
       "      <td>54</td>\n",
       "      <td>3</td>\n",
       "      <td>0</td>\n",
       "      <td>F</td>\n",
       "      <td>1</td>\n",
       "      <td></td>\n",
       "      <td>Lisa                                          ...</td>\n",
       "      <td>Martin                                        ...</td>\n",
       "      <td>676</td>\n",
       "      <td>Humble                                        ...</td>\n",
       "      <td>90172</td>\n",
       "      <td>Los Angeles</td>\n",
       "      <td>CA</td>\n",
       "    </tr>\n",
       "    <tr>\n",
       "      <th>4</th>\n",
       "      <td>1362548</td>\n",
       "      <td>44554</td>\n",
       "      <td>59</td>\n",
       "      <td>9</td>\n",
       "      <td>2</td>\n",
       "      <td>F</td>\n",
       "      <td>4</td>\n",
       "      <td></td>\n",
       "      <td>Barbara                                       ...</td>\n",
       "      <td>O'Malley                                      ...</td>\n",
       "      <td>6578</td>\n",
       "      <td>C                                             ...</td>\n",
       "      <td>10138</td>\n",
       "      <td>New York City</td>\n",
       "      <td>NY</td>\n",
       "    </tr>\n",
       "    <tr>\n",
       "      <th>...</th>\n",
       "      <td>...</td>\n",
       "      <td>...</td>\n",
       "      <td>...</td>\n",
       "      <td>...</td>\n",
       "      <td>...</td>\n",
       "      <td>...</td>\n",
       "      <td>...</td>\n",
       "      <td>...</td>\n",
       "      <td>...</td>\n",
       "      <td>...</td>\n",
       "      <td>...</td>\n",
       "      <td>...</td>\n",
       "      <td>...</td>\n",
       "      <td>...</td>\n",
       "      <td>...</td>\n",
       "    </tr>\n",
       "    <tr>\n",
       "      <th>742</th>\n",
       "      <td>1363324</td>\n",
       "      <td>14795</td>\n",
       "      <td>36</td>\n",
       "      <td>6</td>\n",
       "      <td>1</td>\n",
       "      <td>F</td>\n",
       "      <td>4</td>\n",
       "      <td></td>\n",
       "      <td>Lillian                                       ...</td>\n",
       "      <td>Kaufman                                       ...</td>\n",
       "      <td>9677</td>\n",
       "      <td>B                                             ...</td>\n",
       "      <td>90016</td>\n",
       "      <td>Los Angeles</td>\n",
       "      <td>CA</td>\n",
       "    </tr>\n",
       "    <tr>\n",
       "      <th>743</th>\n",
       "      <td>1362895</td>\n",
       "      <td>26387</td>\n",
       "      <td>56</td>\n",
       "      <td>6</td>\n",
       "      <td>1</td>\n",
       "      <td>M</td>\n",
       "      <td>2</td>\n",
       "      <td></td>\n",
       "      <td>Marty                                         ...</td>\n",
       "      <td>McSherry                                      ...</td>\n",
       "      <td>3227</td>\n",
       "      <td>Inspiration                                   ...</td>\n",
       "      <td>10126</td>\n",
       "      <td>New York City</td>\n",
       "      <td>NY</td>\n",
       "    </tr>\n",
       "    <tr>\n",
       "      <th>744</th>\n",
       "      <td>1362569</td>\n",
       "      <td>61300</td>\n",
       "      <td>50</td>\n",
       "      <td>0</td>\n",
       "      <td>2</td>\n",
       "      <td>M</td>\n",
       "      <td>2</td>\n",
       "      <td></td>\n",
       "      <td>Ken                                           ...</td>\n",
       "      <td>Lawrence                                      ...</td>\n",
       "      <td>6082</td>\n",
       "      <td>23rd                                          ...</td>\n",
       "      <td>87194</td>\n",
       "      <td>Albuquerque</td>\n",
       "      <td>NM</td>\n",
       "    </tr>\n",
       "    <tr>\n",
       "      <th>745</th>\n",
       "      <td>1363364</td>\n",
       "      <td>15100</td>\n",
       "      <td>37</td>\n",
       "      <td>7</td>\n",
       "      <td>0</td>\n",
       "      <td>F</td>\n",
       "      <td>2</td>\n",
       "      <td></td>\n",
       "      <td>Debbie                                        ...</td>\n",
       "      <td>Runner                                        ...</td>\n",
       "      <td>7851</td>\n",
       "      <td>H                                             ...</td>\n",
       "      <td>35241</td>\n",
       "      <td>Birmingham</td>\n",
       "      <td>AL</td>\n",
       "    </tr>\n",
       "    <tr>\n",
       "      <th>746</th>\n",
       "      <td>1363303</td>\n",
       "      <td>17875</td>\n",
       "      <td>18</td>\n",
       "      <td>3</td>\n",
       "      <td>0</td>\n",
       "      <td>F</td>\n",
       "      <td>1</td>\n",
       "      <td></td>\n",
       "      <td>Molly                                         ...</td>\n",
       "      <td>Potter                                        ...</td>\n",
       "      <td>7824</td>\n",
       "      <td>E                                             ...</td>\n",
       "      <td>90029</td>\n",
       "      <td>Los Angeles</td>\n",
       "      <td>CA</td>\n",
       "    </tr>\n",
       "  </tbody>\n",
       "</table>\n",
       "<p>747 rows × 15 columns</p>\n",
       "</div>"
      ],
      "text/plain": [
       "     cust_id  income  age  years_with_bank  nbr_children gender  \\\n",
       "0    1362691   26150   46                5             1     M    \n",
       "1    1362487    6605   71                1             0     M    \n",
       "2    1363160   18548   38                8             0     F    \n",
       "3    1362752   47668   54                3             0     F    \n",
       "4    1362548   44554   59                9             2     F    \n",
       "..       ...     ...  ...              ...           ...    ...   \n",
       "742  1363324   14795   36                6             1     F    \n",
       "743  1362895   26387   56                6             1     M    \n",
       "744  1362569   61300   50                0             2     M    \n",
       "745  1363364   15100   37                7             0     F    \n",
       "746  1363303   17875   18                3             0     F    \n",
       "\n",
       "     marital_status name_prefix  \\\n",
       "0                 2               \n",
       "1                 2               \n",
       "2                 1               \n",
       "3                 1               \n",
       "4                 4               \n",
       "..              ...         ...   \n",
       "742               4               \n",
       "743               2               \n",
       "744               2               \n",
       "745               2               \n",
       "746               1               \n",
       "\n",
       "                                            first_name  \\\n",
       "0    Donald                                        ...   \n",
       "1    ChingDyi                                      ...   \n",
       "2    Rosa                                          ...   \n",
       "3    Lisa                                          ...   \n",
       "4    Barbara                                       ...   \n",
       "..                                                 ...   \n",
       "742  Lillian                                       ...   \n",
       "743  Marty                                         ...   \n",
       "744  Ken                                           ...   \n",
       "745  Debbie                                        ...   \n",
       "746  Molly                                         ...   \n",
       "\n",
       "                                             last_name  street_nbr  \\\n",
       "0    Marek                                         ...        8298   \n",
       "1    Moussavi                                      ...       10603   \n",
       "2    Johnston                                      ...        8817   \n",
       "3    Martin                                        ...         676   \n",
       "4    O'Malley                                      ...        6578   \n",
       "..                                                 ...         ...   \n",
       "742  Kaufman                                       ...        9677   \n",
       "743  McSherry                                      ...        3227   \n",
       "744  Lawrence                                      ...        6082   \n",
       "745  Runner                                        ...        7851   \n",
       "746  Potter                                        ...        7824   \n",
       "\n",
       "                                           street_name  postal_code  \\\n",
       "0    Second                                        ...        89194   \n",
       "1    Daffodil                                      ...        90159   \n",
       "2    Figueroa                                      ...        90024   \n",
       "3    Humble                                        ...        90172   \n",
       "4    C                                             ...        10138   \n",
       "..                                                 ...          ...   \n",
       "742  B                                             ...        90016   \n",
       "743  Inspiration                                   ...        10126   \n",
       "744  23rd                                          ...        87194   \n",
       "745  H                                             ...        35241   \n",
       "746  E                                             ...        90029   \n",
       "\n",
       "                                    city_name state_code  \n",
       "0    Las Vegas                                      NV    \n",
       "1    Los Angeles                                    CA    \n",
       "2    Los Angeles                                    CA    \n",
       "3    Los Angeles                                    CA    \n",
       "4    New York City                                  NY    \n",
       "..                                        ...        ...  \n",
       "742  Los Angeles                                    CA    \n",
       "743  New York City                                  NY    \n",
       "744  Albuquerque                                    NM    \n",
       "745  Birmingham                                     AL    \n",
       "746  Los Angeles                                    CA    \n",
       "\n",
       "[747 rows x 15 columns]"
      ]
     },
     "execution_count": 168,
     "metadata": {},
     "output_type": "execute_result"
    }
   ],
   "source": [
    "twm_customer"
   ]
  },
  {
   "cell_type": "code",
   "execution_count": 169,
   "metadata": {},
   "outputs": [
    {
     "data": {
      "text/html": [
       "<div>\n",
       "<style scoped>\n",
       "    .dataframe tbody tr th:only-of-type {\n",
       "        vertical-align: middle;\n",
       "    }\n",
       "\n",
       "    .dataframe tbody tr th {\n",
       "        vertical-align: top;\n",
       "    }\n",
       "\n",
       "    .dataframe thead th {\n",
       "        text-align: right;\n",
       "    }\n",
       "</style>\n",
       "<table border=\"1\" class=\"dataframe\">\n",
       "  <thead>\n",
       "    <tr style=\"text-align: right;\">\n",
       "      <th></th>\n",
       "      <th>cust_id</th>\n",
       "      <th>income</th>\n",
       "    </tr>\n",
       "  </thead>\n",
       "  <tbody>\n",
       "    <tr>\n",
       "      <th>0</th>\n",
       "      <td>1362691</td>\n",
       "      <td>26150</td>\n",
       "    </tr>\n",
       "    <tr>\n",
       "      <th>1</th>\n",
       "      <td>1362487</td>\n",
       "      <td>6605</td>\n",
       "    </tr>\n",
       "    <tr>\n",
       "      <th>2</th>\n",
       "      <td>1363160</td>\n",
       "      <td>18548</td>\n",
       "    </tr>\n",
       "    <tr>\n",
       "      <th>3</th>\n",
       "      <td>1362752</td>\n",
       "      <td>47668</td>\n",
       "    </tr>\n",
       "    <tr>\n",
       "      <th>4</th>\n",
       "      <td>1362548</td>\n",
       "      <td>44554</td>\n",
       "    </tr>\n",
       "    <tr>\n",
       "      <th>...</th>\n",
       "      <td>...</td>\n",
       "      <td>...</td>\n",
       "    </tr>\n",
       "    <tr>\n",
       "      <th>742</th>\n",
       "      <td>1363324</td>\n",
       "      <td>14795</td>\n",
       "    </tr>\n",
       "    <tr>\n",
       "      <th>743</th>\n",
       "      <td>1362895</td>\n",
       "      <td>26387</td>\n",
       "    </tr>\n",
       "    <tr>\n",
       "      <th>744</th>\n",
       "      <td>1362569</td>\n",
       "      <td>61300</td>\n",
       "    </tr>\n",
       "    <tr>\n",
       "      <th>745</th>\n",
       "      <td>1363364</td>\n",
       "      <td>15100</td>\n",
       "    </tr>\n",
       "    <tr>\n",
       "      <th>746</th>\n",
       "      <td>1363303</td>\n",
       "      <td>17875</td>\n",
       "    </tr>\n",
       "  </tbody>\n",
       "</table>\n",
       "<p>747 rows × 2 columns</p>\n",
       "</div>"
      ],
      "text/plain": [
       "     cust_id  income\n",
       "0    1362691   26150\n",
       "1    1362487    6605\n",
       "2    1363160   18548\n",
       "3    1362752   47668\n",
       "4    1362548   44554\n",
       "..       ...     ...\n",
       "742  1363324   14795\n",
       "743  1362895   26387\n",
       "744  1362569   61300\n",
       "745  1363364   15100\n",
       "746  1363303   17875\n",
       "\n",
       "[747 rows x 2 columns]"
      ]
     },
     "execution_count": 169,
     "metadata": {},
     "output_type": "execute_result"
    }
   ],
   "source": [
    "customer = twm_customer.copy()\n",
    "customer = customer[['cust_id', 'income']]\n",
    "customer"
   ]
  },
  {
   "cell_type": "markdown",
   "metadata": {},
   "source": [
    "# CREDIT BALANCE"
   ]
  },
  {
   "cell_type": "code",
   "execution_count": 170,
   "metadata": {},
   "outputs": [
    {
     "data": {
      "text/html": [
       "<div>\n",
       "<style scoped>\n",
       "    .dataframe tbody tr th:only-of-type {\n",
       "        vertical-align: middle;\n",
       "    }\n",
       "\n",
       "    .dataframe tbody tr th {\n",
       "        vertical-align: top;\n",
       "    }\n",
       "\n",
       "    .dataframe thead th {\n",
       "        text-align: right;\n",
       "    }\n",
       "</style>\n",
       "<table border=\"1\" class=\"dataframe\">\n",
       "  <thead>\n",
       "    <tr style=\"text-align: right;\">\n",
       "      <th></th>\n",
       "      <th>cust_id</th>\n",
       "      <th>acct_nbr</th>\n",
       "      <th>credit_limit</th>\n",
       "      <th>credit_rating</th>\n",
       "      <th>account_active</th>\n",
       "      <th>acct_start_date</th>\n",
       "      <th>acct_end_date</th>\n",
       "      <th>starting_balance</th>\n",
       "      <th>ending_balance</th>\n",
       "    </tr>\n",
       "  </thead>\n",
       "  <tbody>\n",
       "    <tr>\n",
       "      <th>0</th>\n",
       "      <td>1363160</td>\n",
       "      <td>4561143213631600</td>\n",
       "      <td>1000</td>\n",
       "      <td>0</td>\n",
       "      <td>Y</td>\n",
       "      <td>12.10.1988</td>\n",
       "      <td>NaN</td>\n",
       "      <td>657.46</td>\n",
       "      <td>286.69</td>\n",
       "    </tr>\n",
       "    <tr>\n",
       "      <th>1</th>\n",
       "      <td>1362487</td>\n",
       "      <td>4561143213624870</td>\n",
       "      <td>3000</td>\n",
       "      <td>0</td>\n",
       "      <td>Y</td>\n",
       "      <td>8.8.1995</td>\n",
       "      <td>NaN</td>\n",
       "      <td>0.00</td>\n",
       "      <td>1548.23</td>\n",
       "    </tr>\n",
       "    <tr>\n",
       "      <th>2</th>\n",
       "      <td>1362548</td>\n",
       "      <td>4561143213625480</td>\n",
       "      <td>6700</td>\n",
       "      <td>0</td>\n",
       "      <td>Y</td>\n",
       "      <td>11.11.1986</td>\n",
       "      <td>NaN</td>\n",
       "      <td>6965.25</td>\n",
       "      <td>68.68</td>\n",
       "    </tr>\n",
       "    <tr>\n",
       "      <th>3</th>\n",
       "      <td>1362752</td>\n",
       "      <td>4561143213627520</td>\n",
       "      <td>2400</td>\n",
       "      <td>0</td>\n",
       "      <td>N</td>\n",
       "      <td>9.10.1994</td>\n",
       "      <td>2.4.1995</td>\n",
       "      <td>2302.14</td>\n",
       "      <td>0.00</td>\n",
       "    </tr>\n",
       "    <tr>\n",
       "      <th>4</th>\n",
       "      <td>1363017</td>\n",
       "      <td>4561143213630170</td>\n",
       "      <td>1000</td>\n",
       "      <td>0</td>\n",
       "      <td>Y</td>\n",
       "      <td>8.2.1995</td>\n",
       "      <td>NaN</td>\n",
       "      <td>0.00</td>\n",
       "      <td>1000.00</td>\n",
       "    </tr>\n",
       "    <tr>\n",
       "      <th>...</th>\n",
       "      <td>...</td>\n",
       "      <td>...</td>\n",
       "      <td>...</td>\n",
       "      <td>...</td>\n",
       "      <td>...</td>\n",
       "      <td>...</td>\n",
       "      <td>...</td>\n",
       "      <td>...</td>\n",
       "      <td>...</td>\n",
       "    </tr>\n",
       "    <tr>\n",
       "      <th>463</th>\n",
       "      <td>1363364</td>\n",
       "      <td>4561143213633640</td>\n",
       "      <td>3000</td>\n",
       "      <td>0</td>\n",
       "      <td>N</td>\n",
       "      <td>23.11.1989</td>\n",
       "      <td>23.7.1995</td>\n",
       "      <td>1783.86</td>\n",
       "      <td>1785.97</td>\n",
       "    </tr>\n",
       "    <tr>\n",
       "      <th>464</th>\n",
       "      <td>1363467</td>\n",
       "      <td>4561143213634670</td>\n",
       "      <td>1500</td>\n",
       "      <td>0</td>\n",
       "      <td>Y</td>\n",
       "      <td>30.6.1993</td>\n",
       "      <td>NaN</td>\n",
       "      <td>1193.89</td>\n",
       "      <td>1500.00</td>\n",
       "    </tr>\n",
       "    <tr>\n",
       "      <th>465</th>\n",
       "      <td>1363263</td>\n",
       "      <td>4561143213632630</td>\n",
       "      <td>3000</td>\n",
       "      <td>0</td>\n",
       "      <td>Y</td>\n",
       "      <td>29.3.1995</td>\n",
       "      <td>NaN</td>\n",
       "      <td>0.00</td>\n",
       "      <td>1218.94</td>\n",
       "    </tr>\n",
       "    <tr>\n",
       "      <th>466</th>\n",
       "      <td>1362569</td>\n",
       "      <td>4561143213625690</td>\n",
       "      <td>9200</td>\n",
       "      <td>0</td>\n",
       "      <td>Y</td>\n",
       "      <td>6.12.1995</td>\n",
       "      <td>NaN</td>\n",
       "      <td>0.00</td>\n",
       "      <td>9200.00</td>\n",
       "    </tr>\n",
       "    <tr>\n",
       "      <th>467</th>\n",
       "      <td>1363303</td>\n",
       "      <td>4561143213633030</td>\n",
       "      <td>1000</td>\n",
       "      <td>0</td>\n",
       "      <td>Y</td>\n",
       "      <td>22.4.1995</td>\n",
       "      <td>NaN</td>\n",
       "      <td>0.00</td>\n",
       "      <td>1000.00</td>\n",
       "    </tr>\n",
       "  </tbody>\n",
       "</table>\n",
       "<p>468 rows × 9 columns</p>\n",
       "</div>"
      ],
      "text/plain": [
       "     cust_id          acct_nbr  credit_limit  credit_rating account_active  \\\n",
       "0    1363160  4561143213631600          1000              0             Y    \n",
       "1    1362487  4561143213624870          3000              0             Y    \n",
       "2    1362548  4561143213625480          6700              0             Y    \n",
       "3    1362752  4561143213627520          2400              0             N    \n",
       "4    1363017  4561143213630170          1000              0             Y    \n",
       "..       ...               ...           ...            ...            ...   \n",
       "463  1363364  4561143213633640          3000              0             N    \n",
       "464  1363467  4561143213634670          1500              0             Y    \n",
       "465  1363263  4561143213632630          3000              0             Y    \n",
       "466  1362569  4561143213625690          9200              0             Y    \n",
       "467  1363303  4561143213633030          1000              0             Y    \n",
       "\n",
       "    acct_start_date acct_end_date  starting_balance  ending_balance  \n",
       "0        12.10.1988           NaN            657.46          286.69  \n",
       "1          8.8.1995           NaN              0.00         1548.23  \n",
       "2        11.11.1986           NaN           6965.25           68.68  \n",
       "3         9.10.1994      2.4.1995           2302.14            0.00  \n",
       "4          8.2.1995           NaN              0.00         1000.00  \n",
       "..              ...           ...               ...             ...  \n",
       "463      23.11.1989     23.7.1995           1783.86         1785.97  \n",
       "464       30.6.1993           NaN           1193.89         1500.00  \n",
       "465       29.3.1995           NaN              0.00         1218.94  \n",
       "466       6.12.1995           NaN              0.00         9200.00  \n",
       "467       22.4.1995           NaN              0.00         1000.00  \n",
       "\n",
       "[468 rows x 9 columns]"
      ]
     },
     "execution_count": 170,
     "metadata": {},
     "output_type": "execute_result"
    }
   ],
   "source": [
    "twm_credit_acct"
   ]
  },
  {
   "cell_type": "code",
   "execution_count": 171,
   "metadata": {},
   "outputs": [],
   "source": [
    "credit_acc = twm_credit_acct.copy()"
   ]
  },
  {
   "cell_type": "code",
   "execution_count": 172,
   "metadata": {},
   "outputs": [
    {
     "data": {
      "text/html": [
       "<div>\n",
       "<style scoped>\n",
       "    .dataframe tbody tr th:only-of-type {\n",
       "        vertical-align: middle;\n",
       "    }\n",
       "\n",
       "    .dataframe tbody tr th {\n",
       "        vertical-align: top;\n",
       "    }\n",
       "\n",
       "    .dataframe thead th {\n",
       "        text-align: right;\n",
       "    }\n",
       "</style>\n",
       "<table border=\"1\" class=\"dataframe\">\n",
       "  <thead>\n",
       "    <tr style=\"text-align: right;\">\n",
       "      <th></th>\n",
       "      <th>cust_id</th>\n",
       "      <th>credit_limit</th>\n",
       "      <th>ending_balance</th>\n",
       "      <th>Credit Balance</th>\n",
       "    </tr>\n",
       "  </thead>\n",
       "  <tbody>\n",
       "    <tr>\n",
       "      <th>0</th>\n",
       "      <td>1363160</td>\n",
       "      <td>1000</td>\n",
       "      <td>286.69</td>\n",
       "      <td>713.31</td>\n",
       "    </tr>\n",
       "    <tr>\n",
       "      <th>1</th>\n",
       "      <td>1362487</td>\n",
       "      <td>3000</td>\n",
       "      <td>1548.23</td>\n",
       "      <td>1451.77</td>\n",
       "    </tr>\n",
       "    <tr>\n",
       "      <th>2</th>\n",
       "      <td>1362548</td>\n",
       "      <td>6700</td>\n",
       "      <td>68.68</td>\n",
       "      <td>6631.32</td>\n",
       "    </tr>\n",
       "    <tr>\n",
       "      <th>3</th>\n",
       "      <td>1362752</td>\n",
       "      <td>2400</td>\n",
       "      <td>0.00</td>\n",
       "      <td>2400.00</td>\n",
       "    </tr>\n",
       "    <tr>\n",
       "      <th>4</th>\n",
       "      <td>1363017</td>\n",
       "      <td>1000</td>\n",
       "      <td>1000.00</td>\n",
       "      <td>0.00</td>\n",
       "    </tr>\n",
       "    <tr>\n",
       "      <th>...</th>\n",
       "      <td>...</td>\n",
       "      <td>...</td>\n",
       "      <td>...</td>\n",
       "      <td>...</td>\n",
       "    </tr>\n",
       "    <tr>\n",
       "      <th>463</th>\n",
       "      <td>1363364</td>\n",
       "      <td>3000</td>\n",
       "      <td>1785.97</td>\n",
       "      <td>1214.03</td>\n",
       "    </tr>\n",
       "    <tr>\n",
       "      <th>464</th>\n",
       "      <td>1363467</td>\n",
       "      <td>1500</td>\n",
       "      <td>1500.00</td>\n",
       "      <td>0.00</td>\n",
       "    </tr>\n",
       "    <tr>\n",
       "      <th>465</th>\n",
       "      <td>1363263</td>\n",
       "      <td>3000</td>\n",
       "      <td>1218.94</td>\n",
       "      <td>1781.06</td>\n",
       "    </tr>\n",
       "    <tr>\n",
       "      <th>466</th>\n",
       "      <td>1362569</td>\n",
       "      <td>9200</td>\n",
       "      <td>9200.00</td>\n",
       "      <td>0.00</td>\n",
       "    </tr>\n",
       "    <tr>\n",
       "      <th>467</th>\n",
       "      <td>1363303</td>\n",
       "      <td>1000</td>\n",
       "      <td>1000.00</td>\n",
       "      <td>0.00</td>\n",
       "    </tr>\n",
       "  </tbody>\n",
       "</table>\n",
       "<p>468 rows × 4 columns</p>\n",
       "</div>"
      ],
      "text/plain": [
       "     cust_id  credit_limit  ending_balance  Credit Balance\n",
       "0    1363160          1000          286.69          713.31\n",
       "1    1362487          3000         1548.23         1451.77\n",
       "2    1362548          6700           68.68         6631.32\n",
       "3    1362752          2400            0.00         2400.00\n",
       "4    1363017          1000         1000.00            0.00\n",
       "..       ...           ...             ...             ...\n",
       "463  1363364          3000         1785.97         1214.03\n",
       "464  1363467          1500         1500.00            0.00\n",
       "465  1363263          3000         1218.94         1781.06\n",
       "466  1362569          9200         9200.00            0.00\n",
       "467  1363303          1000         1000.00            0.00\n",
       "\n",
       "[468 rows x 4 columns]"
      ]
     },
     "execution_count": 172,
     "metadata": {},
     "output_type": "execute_result"
    }
   ],
   "source": [
    "credit_acc['Credit Balance'] = (credit_acc['credit_limit'] - credit_acc['ending_balance'])\n",
    "credit_acc = credit_acc[['cust_id','credit_limit', 'ending_balance','Credit Balance']]\n",
    "credit_acc"
   ]
  },
  {
   "cell_type": "markdown",
   "metadata": {},
   "source": [
    "# SAVINGS BALANCE"
   ]
  },
  {
   "cell_type": "code",
   "execution_count": 173,
   "metadata": {},
   "outputs": [
    {
     "data": {
      "text/html": [
       "<div>\n",
       "<style scoped>\n",
       "    .dataframe tbody tr th:only-of-type {\n",
       "        vertical-align: middle;\n",
       "    }\n",
       "\n",
       "    .dataframe tbody tr th {\n",
       "        vertical-align: top;\n",
       "    }\n",
       "\n",
       "    .dataframe thead th {\n",
       "        text-align: right;\n",
       "    }\n",
       "</style>\n",
       "<table border=\"1\" class=\"dataframe\">\n",
       "  <thead>\n",
       "    <tr style=\"text-align: right;\">\n",
       "      <th></th>\n",
       "      <th>cust_id</th>\n",
       "      <th>acct_nbr</th>\n",
       "      <th>minimum_balance</th>\n",
       "      <th>acct_type</th>\n",
       "      <th>account_active</th>\n",
       "      <th>acct_start_date</th>\n",
       "      <th>acct_end_date</th>\n",
       "      <th>starting_balance</th>\n",
       "      <th>ending_balance</th>\n",
       "    </tr>\n",
       "  </thead>\n",
       "  <tbody>\n",
       "    <tr>\n",
       "      <th>0</th>\n",
       "      <td>1363160</td>\n",
       "      <td>13631603</td>\n",
       "      <td>100</td>\n",
       "      <td>BS</td>\n",
       "      <td>Y</td>\n",
       "      <td>9.5.1988</td>\n",
       "      <td>NaN</td>\n",
       "      <td>113.04</td>\n",
       "      <td>122.54</td>\n",
       "    </tr>\n",
       "    <tr>\n",
       "      <th>1</th>\n",
       "      <td>1362487</td>\n",
       "      <td>13624873</td>\n",
       "      <td>500</td>\n",
       "      <td>MM</td>\n",
       "      <td>N</td>\n",
       "      <td>27.6.1994</td>\n",
       "      <td>25.8.1995</td>\n",
       "      <td>651.73</td>\n",
       "      <td>12.89</td>\n",
       "    </tr>\n",
       "    <tr>\n",
       "      <th>2</th>\n",
       "      <td>1362548</td>\n",
       "      <td>13625483</td>\n",
       "      <td>100</td>\n",
       "      <td>BS</td>\n",
       "      <td>Y</td>\n",
       "      <td>11.11.1986</td>\n",
       "      <td>NaN</td>\n",
       "      <td>250.24</td>\n",
       "      <td>254.02</td>\n",
       "    </tr>\n",
       "    <tr>\n",
       "      <th>3</th>\n",
       "      <td>1362752</td>\n",
       "      <td>13627523</td>\n",
       "      <td>100</td>\n",
       "      <td>BS</td>\n",
       "      <td>Y</td>\n",
       "      <td>20.2.1995</td>\n",
       "      <td>NaN</td>\n",
       "      <td>600.26</td>\n",
       "      <td>609.33</td>\n",
       "    </tr>\n",
       "    <tr>\n",
       "      <th>4</th>\n",
       "      <td>1363017</td>\n",
       "      <td>13630173</td>\n",
       "      <td>100</td>\n",
       "      <td>BS</td>\n",
       "      <td>N</td>\n",
       "      <td>27.4.1994</td>\n",
       "      <td>31.10.1995</td>\n",
       "      <td>2011.02</td>\n",
       "      <td>2901.35</td>\n",
       "    </tr>\n",
       "    <tr>\n",
       "      <th>...</th>\n",
       "      <td>...</td>\n",
       "      <td>...</td>\n",
       "      <td>...</td>\n",
       "      <td>...</td>\n",
       "      <td>...</td>\n",
       "      <td>...</td>\n",
       "      <td>...</td>\n",
       "      <td>...</td>\n",
       "      <td>...</td>\n",
       "    </tr>\n",
       "    <tr>\n",
       "      <th>416</th>\n",
       "      <td>1363141</td>\n",
       "      <td>13631413</td>\n",
       "      <td>100</td>\n",
       "      <td>BS</td>\n",
       "      <td>Y</td>\n",
       "      <td>11.11.1994</td>\n",
       "      <td>NaN</td>\n",
       "      <td>177.33</td>\n",
       "      <td>528.57</td>\n",
       "    </tr>\n",
       "    <tr>\n",
       "      <th>417</th>\n",
       "      <td>1363038</td>\n",
       "      <td>13630383</td>\n",
       "      <td>100</td>\n",
       "      <td>BS</td>\n",
       "      <td>Y</td>\n",
       "      <td>20.2.1995</td>\n",
       "      <td>NaN</td>\n",
       "      <td>333.53</td>\n",
       "      <td>508.26</td>\n",
       "    </tr>\n",
       "    <tr>\n",
       "      <th>418</th>\n",
       "      <td>1362529</td>\n",
       "      <td>13625293</td>\n",
       "      <td>100</td>\n",
       "      <td>BS</td>\n",
       "      <td>Y</td>\n",
       "      <td>15.11.1992</td>\n",
       "      <td>NaN</td>\n",
       "      <td>662.06</td>\n",
       "      <td>873.14</td>\n",
       "    </tr>\n",
       "    <tr>\n",
       "      <th>419</th>\n",
       "      <td>1362895</td>\n",
       "      <td>13628953</td>\n",
       "      <td>100</td>\n",
       "      <td>BS</td>\n",
       "      <td>Y</td>\n",
       "      <td>27.6.1995</td>\n",
       "      <td>NaN</td>\n",
       "      <td>169.96</td>\n",
       "      <td>96.25</td>\n",
       "    </tr>\n",
       "    <tr>\n",
       "      <th>420</th>\n",
       "      <td>1362855</td>\n",
       "      <td>13628553</td>\n",
       "      <td>100</td>\n",
       "      <td>BS</td>\n",
       "      <td>Y</td>\n",
       "      <td>21.3.1995</td>\n",
       "      <td>NaN</td>\n",
       "      <td>167.71</td>\n",
       "      <td>161.04</td>\n",
       "    </tr>\n",
       "  </tbody>\n",
       "</table>\n",
       "<p>421 rows × 9 columns</p>\n",
       "</div>"
      ],
      "text/plain": [
       "     cust_id  acct_nbr  minimum_balance acct_type account_active  \\\n",
       "0    1363160  13631603              100      BS               Y    \n",
       "1    1362487  13624873              500      MM               N    \n",
       "2    1362548  13625483              100      BS               Y    \n",
       "3    1362752  13627523              100      BS               Y    \n",
       "4    1363017  13630173              100      BS               N    \n",
       "..       ...       ...              ...       ...            ...   \n",
       "416  1363141  13631413              100      BS               Y    \n",
       "417  1363038  13630383              100      BS               Y    \n",
       "418  1362529  13625293              100      BS               Y    \n",
       "419  1362895  13628953              100      BS               Y    \n",
       "420  1362855  13628553              100      BS               Y    \n",
       "\n",
       "    acct_start_date acct_end_date  starting_balance  ending_balance  \n",
       "0          9.5.1988           NaN            113.04          122.54  \n",
       "1         27.6.1994     25.8.1995            651.73           12.89  \n",
       "2        11.11.1986           NaN            250.24          254.02  \n",
       "3         20.2.1995           NaN            600.26          609.33  \n",
       "4         27.4.1994    31.10.1995           2011.02         2901.35  \n",
       "..              ...           ...               ...             ...  \n",
       "416      11.11.1994           NaN            177.33          528.57  \n",
       "417       20.2.1995           NaN            333.53          508.26  \n",
       "418      15.11.1992           NaN            662.06          873.14  \n",
       "419       27.6.1995           NaN            169.96           96.25  \n",
       "420       21.3.1995           NaN            167.71          161.04  \n",
       "\n",
       "[421 rows x 9 columns]"
      ]
     },
     "execution_count": 173,
     "metadata": {},
     "output_type": "execute_result"
    }
   ],
   "source": [
    "twm_savings_acct"
   ]
  },
  {
   "cell_type": "code",
   "execution_count": 174,
   "metadata": {},
   "outputs": [],
   "source": [
    "savings = twm_savings_acct.copy()\n",
    "savings = savings[['cust_id','ending_balance']]"
   ]
  },
  {
   "cell_type": "code",
   "execution_count": 175,
   "metadata": {},
   "outputs": [
    {
     "data": {
      "text/html": [
       "<div>\n",
       "<style scoped>\n",
       "    .dataframe tbody tr th:only-of-type {\n",
       "        vertical-align: middle;\n",
       "    }\n",
       "\n",
       "    .dataframe tbody tr th {\n",
       "        vertical-align: top;\n",
       "    }\n",
       "\n",
       "    .dataframe thead th {\n",
       "        text-align: right;\n",
       "    }\n",
       "</style>\n",
       "<table border=\"1\" class=\"dataframe\">\n",
       "  <thead>\n",
       "    <tr style=\"text-align: right;\">\n",
       "      <th></th>\n",
       "      <th>cust_id</th>\n",
       "      <th>Savings Balance</th>\n",
       "    </tr>\n",
       "  </thead>\n",
       "  <tbody>\n",
       "    <tr>\n",
       "      <th>0</th>\n",
       "      <td>1363160</td>\n",
       "      <td>122.54</td>\n",
       "    </tr>\n",
       "    <tr>\n",
       "      <th>1</th>\n",
       "      <td>1362487</td>\n",
       "      <td>12.89</td>\n",
       "    </tr>\n",
       "    <tr>\n",
       "      <th>2</th>\n",
       "      <td>1362548</td>\n",
       "      <td>254.02</td>\n",
       "    </tr>\n",
       "    <tr>\n",
       "      <th>3</th>\n",
       "      <td>1362752</td>\n",
       "      <td>609.33</td>\n",
       "    </tr>\n",
       "    <tr>\n",
       "      <th>4</th>\n",
       "      <td>1363017</td>\n",
       "      <td>2901.35</td>\n",
       "    </tr>\n",
       "    <tr>\n",
       "      <th>...</th>\n",
       "      <td>...</td>\n",
       "      <td>...</td>\n",
       "    </tr>\n",
       "    <tr>\n",
       "      <th>416</th>\n",
       "      <td>1363141</td>\n",
       "      <td>528.57</td>\n",
       "    </tr>\n",
       "    <tr>\n",
       "      <th>417</th>\n",
       "      <td>1363038</td>\n",
       "      <td>508.26</td>\n",
       "    </tr>\n",
       "    <tr>\n",
       "      <th>418</th>\n",
       "      <td>1362529</td>\n",
       "      <td>873.14</td>\n",
       "    </tr>\n",
       "    <tr>\n",
       "      <th>419</th>\n",
       "      <td>1362895</td>\n",
       "      <td>96.25</td>\n",
       "    </tr>\n",
       "    <tr>\n",
       "      <th>420</th>\n",
       "      <td>1362855</td>\n",
       "      <td>161.04</td>\n",
       "    </tr>\n",
       "  </tbody>\n",
       "</table>\n",
       "<p>421 rows × 2 columns</p>\n",
       "</div>"
      ],
      "text/plain": [
       "     cust_id  Savings Balance\n",
       "0    1363160           122.54\n",
       "1    1362487            12.89\n",
       "2    1362548           254.02\n",
       "3    1362752           609.33\n",
       "4    1363017          2901.35\n",
       "..       ...              ...\n",
       "416  1363141           528.57\n",
       "417  1363038           508.26\n",
       "418  1362529           873.14\n",
       "419  1362895            96.25\n",
       "420  1362855           161.04\n",
       "\n",
       "[421 rows x 2 columns]"
      ]
     },
     "execution_count": 175,
     "metadata": {},
     "output_type": "execute_result"
    }
   ],
   "source": [
    "savings.rename(columns={'ending_balance': 'Savings Balance'},inplace = True)\n",
    "savings"
   ]
  },
  {
   "cell_type": "code",
   "execution_count": 176,
   "metadata": {},
   "outputs": [
    {
     "data": {
      "text/html": [
       "<div>\n",
       "<style scoped>\n",
       "    .dataframe tbody tr th:only-of-type {\n",
       "        vertical-align: middle;\n",
       "    }\n",
       "\n",
       "    .dataframe tbody tr th {\n",
       "        vertical-align: top;\n",
       "    }\n",
       "\n",
       "    .dataframe thead th {\n",
       "        text-align: right;\n",
       "    }\n",
       "</style>\n",
       "<table border=\"1\" class=\"dataframe\">\n",
       "  <thead>\n",
       "    <tr style=\"text-align: right;\">\n",
       "      <th></th>\n",
       "      <th>cust_id</th>\n",
       "      <th>acct_nbr</th>\n",
       "      <th>minimum_balance</th>\n",
       "      <th>per_check_fee</th>\n",
       "      <th>account_active</th>\n",
       "      <th>acct_start_date</th>\n",
       "      <th>acct_end_date</th>\n",
       "      <th>starting_balance</th>\n",
       "      <th>ending_balance</th>\n",
       "    </tr>\n",
       "  </thead>\n",
       "  <tbody>\n",
       "    <tr>\n",
       "      <th>0</th>\n",
       "      <td>1362548</td>\n",
       "      <td>13625482</td>\n",
       "      <td>3000</td>\n",
       "      <td>0.00</td>\n",
       "      <td>Y</td>\n",
       "      <td>11.11.1986</td>\n",
       "      <td>NaN</td>\n",
       "      <td>6004.34</td>\n",
       "      <td>569.65</td>\n",
       "    </tr>\n",
       "    <tr>\n",
       "      <th>1</th>\n",
       "      <td>1362487</td>\n",
       "      <td>13624872</td>\n",
       "      <td>3000</td>\n",
       "      <td>0.00</td>\n",
       "      <td>Y</td>\n",
       "      <td>12.1.1995</td>\n",
       "      <td>NaN</td>\n",
       "      <td>2781.07</td>\n",
       "      <td>1401.21</td>\n",
       "    </tr>\n",
       "    <tr>\n",
       "      <th>2</th>\n",
       "      <td>1363017</td>\n",
       "      <td>13630172</td>\n",
       "      <td>3000</td>\n",
       "      <td>0.00</td>\n",
       "      <td>Y</td>\n",
       "      <td>19.3.1994</td>\n",
       "      <td>NaN</td>\n",
       "      <td>2694.91</td>\n",
       "      <td>147.15</td>\n",
       "    </tr>\n",
       "    <tr>\n",
       "      <th>3</th>\n",
       "      <td>1362752</td>\n",
       "      <td>13627522</td>\n",
       "      <td>100</td>\n",
       "      <td>0.15</td>\n",
       "      <td>Y</td>\n",
       "      <td>8.1.1994</td>\n",
       "      <td>NaN</td>\n",
       "      <td>487.69</td>\n",
       "      <td>3.76</td>\n",
       "    </tr>\n",
       "    <tr>\n",
       "      <th>4</th>\n",
       "      <td>1363282</td>\n",
       "      <td>13632822</td>\n",
       "      <td>100</td>\n",
       "      <td>0.15</td>\n",
       "      <td>Y</td>\n",
       "      <td>5.3.1988</td>\n",
       "      <td>NaN</td>\n",
       "      <td>133.90</td>\n",
       "      <td>84.18</td>\n",
       "    </tr>\n",
       "    <tr>\n",
       "      <th>...</th>\n",
       "      <td>...</td>\n",
       "      <td>...</td>\n",
       "      <td>...</td>\n",
       "      <td>...</td>\n",
       "      <td>...</td>\n",
       "      <td>...</td>\n",
       "      <td>...</td>\n",
       "      <td>...</td>\n",
       "      <td>...</td>\n",
       "    </tr>\n",
       "    <tr>\n",
       "      <th>515</th>\n",
       "      <td>1363467</td>\n",
       "      <td>13634672</td>\n",
       "      <td>3000</td>\n",
       "      <td>0.00</td>\n",
       "      <td>Y</td>\n",
       "      <td>15.1.1995</td>\n",
       "      <td>NaN</td>\n",
       "      <td>4155.98</td>\n",
       "      <td>58.47</td>\n",
       "    </tr>\n",
       "    <tr>\n",
       "      <th>516</th>\n",
       "      <td>1362855</td>\n",
       "      <td>13628552</td>\n",
       "      <td>200</td>\n",
       "      <td>0.15</td>\n",
       "      <td>Y</td>\n",
       "      <td>2.9.1994</td>\n",
       "      <td>NaN</td>\n",
       "      <td>202.30</td>\n",
       "      <td>1070.87</td>\n",
       "    </tr>\n",
       "    <tr>\n",
       "      <th>517</th>\n",
       "      <td>1363324</td>\n",
       "      <td>13633242</td>\n",
       "      <td>3000</td>\n",
       "      <td>0.00</td>\n",
       "      <td>Y</td>\n",
       "      <td>25.8.1994</td>\n",
       "      <td>NaN</td>\n",
       "      <td>4010.41</td>\n",
       "      <td>2325.37</td>\n",
       "    </tr>\n",
       "    <tr>\n",
       "      <th>518</th>\n",
       "      <td>1362569</td>\n",
       "      <td>13625692</td>\n",
       "      <td>200</td>\n",
       "      <td>0.15</td>\n",
       "      <td>Y</td>\n",
       "      <td>6.4.1995</td>\n",
       "      <td>NaN</td>\n",
       "      <td>927.07</td>\n",
       "      <td>46.48</td>\n",
       "    </tr>\n",
       "    <tr>\n",
       "      <th>519</th>\n",
       "      <td>1363303</td>\n",
       "      <td>13633032</td>\n",
       "      <td>3000</td>\n",
       "      <td>0.00</td>\n",
       "      <td>Y</td>\n",
       "      <td>18.2.1995</td>\n",
       "      <td>NaN</td>\n",
       "      <td>2789.57</td>\n",
       "      <td>39.22</td>\n",
       "    </tr>\n",
       "  </tbody>\n",
       "</table>\n",
       "<p>520 rows × 9 columns</p>\n",
       "</div>"
      ],
      "text/plain": [
       "     cust_id  acct_nbr  minimum_balance  per_check_fee account_active  \\\n",
       "0    1362548  13625482             3000           0.00             Y    \n",
       "1    1362487  13624872             3000           0.00             Y    \n",
       "2    1363017  13630172             3000           0.00             Y    \n",
       "3    1362752  13627522              100           0.15             Y    \n",
       "4    1363282  13632822              100           0.15             Y    \n",
       "..       ...       ...              ...            ...            ...   \n",
       "515  1363467  13634672             3000           0.00             Y    \n",
       "516  1362855  13628552              200           0.15             Y    \n",
       "517  1363324  13633242             3000           0.00             Y    \n",
       "518  1362569  13625692              200           0.15             Y    \n",
       "519  1363303  13633032             3000           0.00             Y    \n",
       "\n",
       "    acct_start_date acct_end_date  starting_balance  ending_balance  \n",
       "0        11.11.1986           NaN           6004.34          569.65  \n",
       "1         12.1.1995           NaN           2781.07         1401.21  \n",
       "2         19.3.1994           NaN           2694.91          147.15  \n",
       "3          8.1.1994           NaN            487.69            3.76  \n",
       "4          5.3.1988           NaN            133.90           84.18  \n",
       "..              ...           ...               ...             ...  \n",
       "515       15.1.1995           NaN           4155.98           58.47  \n",
       "516        2.9.1994           NaN            202.30         1070.87  \n",
       "517       25.8.1994           NaN           4010.41         2325.37  \n",
       "518        6.4.1995           NaN            927.07           46.48  \n",
       "519       18.2.1995           NaN           2789.57           39.22  \n",
       "\n",
       "[520 rows x 9 columns]"
      ]
     },
     "execution_count": 176,
     "metadata": {},
     "output_type": "execute_result"
    }
   ],
   "source": [
    "twm_checking_acct"
   ]
  },
  {
   "cell_type": "code",
   "execution_count": 177,
   "metadata": {
    "slideshow": {
     "slide_type": "subslide"
    }
   },
   "outputs": [
    {
     "data": {
      "text/html": [
       "<div>\n",
       "<style scoped>\n",
       "    .dataframe tbody tr th:only-of-type {\n",
       "        vertical-align: middle;\n",
       "    }\n",
       "\n",
       "    .dataframe tbody tr th {\n",
       "        vertical-align: top;\n",
       "    }\n",
       "\n",
       "    .dataframe thead th {\n",
       "        text-align: right;\n",
       "    }\n",
       "</style>\n",
       "<table border=\"1\" class=\"dataframe\">\n",
       "  <thead>\n",
       "    <tr style=\"text-align: right;\">\n",
       "      <th></th>\n",
       "      <th>cust_id</th>\n",
       "      <th>Chequing Balance</th>\n",
       "    </tr>\n",
       "  </thead>\n",
       "  <tbody>\n",
       "    <tr>\n",
       "      <th>0</th>\n",
       "      <td>1362548</td>\n",
       "      <td>569.65</td>\n",
       "    </tr>\n",
       "    <tr>\n",
       "      <th>1</th>\n",
       "      <td>1362487</td>\n",
       "      <td>1401.21</td>\n",
       "    </tr>\n",
       "    <tr>\n",
       "      <th>2</th>\n",
       "      <td>1363017</td>\n",
       "      <td>147.15</td>\n",
       "    </tr>\n",
       "    <tr>\n",
       "      <th>3</th>\n",
       "      <td>1362752</td>\n",
       "      <td>3.76</td>\n",
       "    </tr>\n",
       "    <tr>\n",
       "      <th>4</th>\n",
       "      <td>1363282</td>\n",
       "      <td>84.18</td>\n",
       "    </tr>\n",
       "    <tr>\n",
       "      <th>...</th>\n",
       "      <td>...</td>\n",
       "      <td>...</td>\n",
       "    </tr>\n",
       "    <tr>\n",
       "      <th>515</th>\n",
       "      <td>1363467</td>\n",
       "      <td>58.47</td>\n",
       "    </tr>\n",
       "    <tr>\n",
       "      <th>516</th>\n",
       "      <td>1362855</td>\n",
       "      <td>1070.87</td>\n",
       "    </tr>\n",
       "    <tr>\n",
       "      <th>517</th>\n",
       "      <td>1363324</td>\n",
       "      <td>2325.37</td>\n",
       "    </tr>\n",
       "    <tr>\n",
       "      <th>518</th>\n",
       "      <td>1362569</td>\n",
       "      <td>46.48</td>\n",
       "    </tr>\n",
       "    <tr>\n",
       "      <th>519</th>\n",
       "      <td>1363303</td>\n",
       "      <td>39.22</td>\n",
       "    </tr>\n",
       "  </tbody>\n",
       "</table>\n",
       "<p>520 rows × 2 columns</p>\n",
       "</div>"
      ],
      "text/plain": [
       "     cust_id  Chequing Balance\n",
       "0    1362548            569.65\n",
       "1    1362487           1401.21\n",
       "2    1363017            147.15\n",
       "3    1362752              3.76\n",
       "4    1363282             84.18\n",
       "..       ...               ...\n",
       "515  1363467             58.47\n",
       "516  1362855           1070.87\n",
       "517  1363324           2325.37\n",
       "518  1362569             46.48\n",
       "519  1363303             39.22\n",
       "\n",
       "[520 rows x 2 columns]"
      ]
     },
     "execution_count": 177,
     "metadata": {},
     "output_type": "execute_result"
    }
   ],
   "source": [
    "chequing = twm_checking_acct.copy()\n",
    "\n",
    "chequing = chequing[['cust_id','ending_balance']]\n",
    "chequing.rename(columns={'ending_balance': 'Chequing Balance'},inplace = True)\n",
    "chequing"
   ]
  },
  {
   "cell_type": "code",
   "execution_count": 178,
   "metadata": {},
   "outputs": [
    {
     "data": {
      "text/html": [
       "<div>\n",
       "<style scoped>\n",
       "    .dataframe tbody tr th:only-of-type {\n",
       "        vertical-align: middle;\n",
       "    }\n",
       "\n",
       "    .dataframe tbody tr th {\n",
       "        vertical-align: top;\n",
       "    }\n",
       "\n",
       "    .dataframe thead th {\n",
       "        text-align: right;\n",
       "    }\n",
       "</style>\n",
       "<table border=\"1\" class=\"dataframe\">\n",
       "  <thead>\n",
       "    <tr style=\"text-align: right;\">\n",
       "      <th></th>\n",
       "      <th>cust_id</th>\n",
       "      <th>income</th>\n",
       "      <th>Savings Balance</th>\n",
       "      <th>Chequing Balance</th>\n",
       "      <th>Total Asset</th>\n",
       "      <th>Credit Limit</th>\n",
       "      <th>Owing Balance</th>\n",
       "      <th>Credit Balance</th>\n",
       "    </tr>\n",
       "  </thead>\n",
       "  <tbody>\n",
       "    <tr>\n",
       "      <th>0</th>\n",
       "      <td>1362487</td>\n",
       "      <td>6605</td>\n",
       "      <td>12.89</td>\n",
       "      <td>1401.21</td>\n",
       "      <td>1414.10</td>\n",
       "      <td>3000</td>\n",
       "      <td>1548.23</td>\n",
       "      <td>1451.77</td>\n",
       "    </tr>\n",
       "    <tr>\n",
       "      <th>1</th>\n",
       "      <td>1362752</td>\n",
       "      <td>47668</td>\n",
       "      <td>609.33</td>\n",
       "      <td>3.76</td>\n",
       "      <td>613.09</td>\n",
       "      <td>2400</td>\n",
       "      <td>0.00</td>\n",
       "      <td>2400.00</td>\n",
       "    </tr>\n",
       "    <tr>\n",
       "      <th>2</th>\n",
       "      <td>1362548</td>\n",
       "      <td>44554</td>\n",
       "      <td>254.02</td>\n",
       "      <td>569.65</td>\n",
       "      <td>823.67</td>\n",
       "      <td>6700</td>\n",
       "      <td>68.68</td>\n",
       "      <td>6631.32</td>\n",
       "    </tr>\n",
       "    <tr>\n",
       "      <th>3</th>\n",
       "      <td>1363017</td>\n",
       "      <td>0</td>\n",
       "      <td>2901.35</td>\n",
       "      <td>147.15</td>\n",
       "      <td>3048.50</td>\n",
       "      <td>1000</td>\n",
       "      <td>1000.00</td>\n",
       "      <td>0.00</td>\n",
       "    </tr>\n",
       "    <tr>\n",
       "      <th>4</th>\n",
       "      <td>1362609</td>\n",
       "      <td>1929</td>\n",
       "      <td>49.39</td>\n",
       "      <td>15.38</td>\n",
       "      <td>64.77</td>\n",
       "      <td>3000</td>\n",
       "      <td>3000.00</td>\n",
       "      <td>0.00</td>\n",
       "    </tr>\n",
       "    <tr>\n",
       "      <th>...</th>\n",
       "      <td>...</td>\n",
       "      <td>...</td>\n",
       "      <td>...</td>\n",
       "      <td>...</td>\n",
       "      <td>...</td>\n",
       "      <td>...</td>\n",
       "      <td>...</td>\n",
       "      <td>...</td>\n",
       "    </tr>\n",
       "    <tr>\n",
       "      <th>247</th>\n",
       "      <td>1362815</td>\n",
       "      <td>0</td>\n",
       "      <td>348.98</td>\n",
       "      <td>816.60</td>\n",
       "      <td>1165.58</td>\n",
       "      <td>1000</td>\n",
       "      <td>1000.00</td>\n",
       "      <td>0.00</td>\n",
       "    </tr>\n",
       "    <tr>\n",
       "      <th>248</th>\n",
       "      <td>1363284</td>\n",
       "      <td>36614</td>\n",
       "      <td>860.93</td>\n",
       "      <td>946.08</td>\n",
       "      <td>1807.01</td>\n",
       "      <td>1800</td>\n",
       "      <td>965.92</td>\n",
       "      <td>834.08</td>\n",
       "    </tr>\n",
       "    <tr>\n",
       "      <th>249</th>\n",
       "      <td>1362529</td>\n",
       "      <td>43829</td>\n",
       "      <td>873.14</td>\n",
       "      <td>1007.92</td>\n",
       "      <td>1881.06</td>\n",
       "      <td>2200</td>\n",
       "      <td>433.43</td>\n",
       "      <td>1766.57</td>\n",
       "    </tr>\n",
       "    <tr>\n",
       "      <th>250</th>\n",
       "      <td>1362508</td>\n",
       "      <td>9802</td>\n",
       "      <td>255.11</td>\n",
       "      <td>75.11</td>\n",
       "      <td>330.22</td>\n",
       "      <td>3000</td>\n",
       "      <td>1072.17</td>\n",
       "      <td>1927.83</td>\n",
       "    </tr>\n",
       "    <tr>\n",
       "      <th>251</th>\n",
       "      <td>1363038</td>\n",
       "      <td>36605</td>\n",
       "      <td>508.26</td>\n",
       "      <td>459.03</td>\n",
       "      <td>967.29</td>\n",
       "      <td>1800</td>\n",
       "      <td>1800.00</td>\n",
       "      <td>0.00</td>\n",
       "    </tr>\n",
       "  </tbody>\n",
       "</table>\n",
       "<p>252 rows × 8 columns</p>\n",
       "</div>"
      ],
      "text/plain": [
       "     cust_id  income  Savings Balance  Chequing Balance  Total Asset  \\\n",
       "0    1362487    6605            12.89           1401.21      1414.10   \n",
       "1    1362752   47668           609.33              3.76       613.09   \n",
       "2    1362548   44554           254.02            569.65       823.67   \n",
       "3    1363017       0          2901.35            147.15      3048.50   \n",
       "4    1362609    1929            49.39             15.38        64.77   \n",
       "..       ...     ...              ...               ...          ...   \n",
       "247  1362815       0           348.98            816.60      1165.58   \n",
       "248  1363284   36614           860.93            946.08      1807.01   \n",
       "249  1362529   43829           873.14           1007.92      1881.06   \n",
       "250  1362508    9802           255.11             75.11       330.22   \n",
       "251  1363038   36605           508.26            459.03       967.29   \n",
       "\n",
       "     Credit Limit  Owing Balance  Credit Balance  \n",
       "0            3000        1548.23         1451.77  \n",
       "1            2400           0.00         2400.00  \n",
       "2            6700          68.68         6631.32  \n",
       "3            1000        1000.00            0.00  \n",
       "4            3000        3000.00            0.00  \n",
       "..            ...            ...             ...  \n",
       "247          1000        1000.00            0.00  \n",
       "248          1800         965.92          834.08  \n",
       "249          2200         433.43         1766.57  \n",
       "250          3000        1072.17         1927.83  \n",
       "251          1800        1800.00            0.00  \n",
       "\n",
       "[252 rows x 8 columns]"
      ]
     },
     "execution_count": 178,
     "metadata": {},
     "output_type": "execute_result"
    }
   ],
   "source": [
    "a = pd.merge(customer,savings,on='cust_id')\n",
    "b = pd.merge(a,chequing, on ='cust_id')\n",
    "b['Total Asset'] = b['Savings Balance'] + b['Chequing Balance']\n",
    "report = pd.merge(b,credit_acc, on ='cust_id')\n",
    "report.rename(columns={'ending_balance': 'Owing Balance', 'credit_limit':'Credit Limit'},inplace = True)\n",
    "report.fillna(0)\n",
    "report"
   ]
  },
  {
   "cell_type": "markdown",
   "metadata": {},
   "source": [
    "# scale"
   ]
  },
  {
   "cell_type": "code",
   "execution_count": 179,
   "metadata": {},
   "outputs": [
    {
     "data": {
      "text/html": [
       "<div>\n",
       "<style scoped>\n",
       "    .dataframe tbody tr th:only-of-type {\n",
       "        vertical-align: middle;\n",
       "    }\n",
       "\n",
       "    .dataframe tbody tr th {\n",
       "        vertical-align: top;\n",
       "    }\n",
       "\n",
       "    .dataframe thead th {\n",
       "        text-align: right;\n",
       "    }\n",
       "</style>\n",
       "<table border=\"1\" class=\"dataframe\">\n",
       "  <thead>\n",
       "    <tr style=\"text-align: right;\">\n",
       "      <th></th>\n",
       "      <th>income</th>\n",
       "      <th>Savings Balance</th>\n",
       "      <th>Chequing Balance</th>\n",
       "      <th>Owing Balance</th>\n",
       "    </tr>\n",
       "  </thead>\n",
       "  <tbody>\n",
       "    <tr>\n",
       "      <th>0</th>\n",
       "      <td>0.317931</td>\n",
       "      <td>0.005612</td>\n",
       "      <td>1.367966</td>\n",
       "      <td>1.410684</td>\n",
       "    </tr>\n",
       "    <tr>\n",
       "      <th>1</th>\n",
       "      <td>2.294495</td>\n",
       "      <td>0.265302</td>\n",
       "      <td>0.003671</td>\n",
       "      <td>0.000000</td>\n",
       "    </tr>\n",
       "    <tr>\n",
       "      <th>2</th>\n",
       "      <td>2.144603</td>\n",
       "      <td>0.110600</td>\n",
       "      <td>0.556135</td>\n",
       "      <td>0.062578</td>\n",
       "    </tr>\n",
       "    <tr>\n",
       "      <th>3</th>\n",
       "      <td>0.000000</td>\n",
       "      <td>1.263246</td>\n",
       "      <td>0.143659</td>\n",
       "      <td>0.911160</td>\n",
       "    </tr>\n",
       "    <tr>\n",
       "      <th>4</th>\n",
       "      <td>0.092852</td>\n",
       "      <td>0.021504</td>\n",
       "      <td>0.015015</td>\n",
       "      <td>2.733479</td>\n",
       "    </tr>\n",
       "    <tr>\n",
       "      <th>...</th>\n",
       "      <td>...</td>\n",
       "      <td>...</td>\n",
       "      <td>...</td>\n",
       "      <td>...</td>\n",
       "    </tr>\n",
       "    <tr>\n",
       "      <th>247</th>\n",
       "      <td>0.000000</td>\n",
       "      <td>0.151946</td>\n",
       "      <td>0.797226</td>\n",
       "      <td>0.911160</td>\n",
       "    </tr>\n",
       "    <tr>\n",
       "      <th>248</th>\n",
       "      <td>1.762412</td>\n",
       "      <td>0.374848</td>\n",
       "      <td>0.923634</td>\n",
       "      <td>0.880107</td>\n",
       "    </tr>\n",
       "    <tr>\n",
       "      <th>249</th>\n",
       "      <td>2.109705</td>\n",
       "      <td>0.380165</td>\n",
       "      <td>0.984007</td>\n",
       "      <td>0.394924</td>\n",
       "    </tr>\n",
       "    <tr>\n",
       "      <th>250</th>\n",
       "      <td>0.471818</td>\n",
       "      <td>0.111075</td>\n",
       "      <td>0.073328</td>\n",
       "      <td>0.976918</td>\n",
       "    </tr>\n",
       "    <tr>\n",
       "      <th>251</th>\n",
       "      <td>1.761978</td>\n",
       "      <td>0.221296</td>\n",
       "      <td>0.448140</td>\n",
       "      <td>1.640087</td>\n",
       "    </tr>\n",
       "  </tbody>\n",
       "</table>\n",
       "<p>252 rows × 4 columns</p>\n",
       "</div>"
      ],
      "text/plain": [
       "       income  Savings Balance  Chequing Balance  Owing Balance\n",
       "0    0.317931         0.005612          1.367966       1.410684\n",
       "1    2.294495         0.265302          0.003671       0.000000\n",
       "2    2.144603         0.110600          0.556135       0.062578\n",
       "3    0.000000         1.263246          0.143659       0.911160\n",
       "4    0.092852         0.021504          0.015015       2.733479\n",
       "..        ...              ...               ...            ...\n",
       "247  0.000000         0.151946          0.797226       0.911160\n",
       "248  1.762412         0.374848          0.923634       0.880107\n",
       "249  2.109705         0.380165          0.984007       0.394924\n",
       "250  0.471818         0.111075          0.073328       0.976918\n",
       "251  1.761978         0.221296          0.448140       1.640087\n",
       "\n",
       "[252 rows x 4 columns]"
      ]
     },
     "execution_count": 179,
     "metadata": {},
     "output_type": "execute_result"
    }
   ],
   "source": [
    "features = ['income','Savings Balance', 'Chequing Balance','Owing Balance']\n",
    "scaler = StandardScaler(with_mean=False).fit_transform(report[features])\n",
    "scaled_df = pd.DataFrame(scaler, columns=features)\n",
    "scaled_df"
   ]
  },
  {
   "cell_type": "code",
   "execution_count": 180,
   "metadata": {},
   "outputs": [],
   "source": [
    "# elbow rule function\n",
    "def elbow(df):\n",
    "    distortions = []\n",
    "    for i in range(1, 11):\n",
    "        km = KMeans(n_clusters=i,\n",
    "                    n_init=10,\n",
    "                    random_state=0)\n",
    "        km.fit(df)\n",
    "        distortions.append(km.inertia_)\n",
    "    fig, ax = plt.subplots(figsize=(15,8))\n",
    "    ax.plot(range(1,11), distortions, marker='o')\n",
    "    ax.set_xlabel('Number of clusters')\n",
    "    ax.set_ylabel('Distortion')\n",
    "    ax.set_title('Elbow method')\n",
    "    plt.show()"
   ]
  },
  {
   "cell_type": "code",
   "execution_count": 181,
   "metadata": {},
   "outputs": [
    {
     "name": "stderr",
     "output_type": "stream",
     "text": [
      "C:\\Users\\user\\anaconda3\\lib\\site-packages\\sklearn\\cluster\\_kmeans.py:1039: UserWarning:\n",
      "\n",
      "KMeans is known to have a memory leak on Windows with MKL, when there are less chunks than available threads. You can avoid it by setting the environment variable OMP_NUM_THREADS=1.\n",
      "\n"
     ]
    },
    {
     "data": {
      "image/png": "[encoded data removed]",
      "text/plain": [
       "<Figure size 1080x576 with 1 Axes>"
      ]
     },
     "metadata": {
      "needs_background": "light"
     },
     "output_type": "display_data"
    }
   ],
   "source": [
    "elbow(scaled_df)"
   ]
  },
  {
   "cell_type": "code",
   "execution_count": 182,
   "metadata": {},
   "outputs": [
    {
     "data": {
      "application/vnd.plotly.v1+json": {
       "config": {
        "plotlyServerURL": "https://plot.ly"
       },
       "data": [
        {
         "fill": "toself",
         "name": "cluster_0",
         "r": [
          65.71887648593449,
          64.85579350690848,
          54.73796930222809,
          66.17248621178608
         ],
         "theta": [
          "income",
          "Savings Balance",
          "Chequing Balance",
          "Owing Balance"
         ],
         "type": "scatterpolar"
        },
        {
         "fill": "toself",
         "name": "cluster_1",
         "r": [
          273.4262930238656,
          1027.9682604573181,
          173.7748248396658,
          73.46257902536803
         ],
         "theta": [
          "income",
          "Savings Balance",
          "Chequing Balance",
          "Owing Balance"
         ],
         "type": "scatterpolar"
        },
        {
         "fill": "toself",
         "name": "cluster_2",
         "r": [
          178.74362256890012,
          86.56101230974654,
          69.12209619713308,
          237.8165002071891
         ],
         "theta": [
          "income",
          "Savings Balance",
          "Chequing Balance",
          "Owing Balance"
         ],
         "type": "scatterpolar"
        },
        {
         "fill": "toself",
         "name": "cluster_3",
         "r": [
          164.2397349471967,
          142.9897672083454,
          415.5258764423272,
          117.72206992381793
         ],
         "theta": [
          "income",
          "Savings Balance",
          "Chequing Balance",
          "Owing Balance"
         ],
         "type": "scatterpolar"
        },
        {
         "fill": "toself",
         "name": "mean",
         "r": [
          100,
          100,
          100,
          100
         ],
         "theta": [
          "income",
          "Savings Balance",
          "Chequing Balance",
          "Owing Balance"
         ],
         "type": "scatterpolar"
        }
       ],
       "layout": {
        "autosize": true,
        "polar": {
         "angularaxis": {
          "type": "category"
         },
         "radialaxis": {
          "autorange": true,
          "range": [
           0,
           1057.33878218467
          ],
          "type": "linear",
          "visible": true
         }
        },
        "showlegend": true,
        "template": {
         "data": {
          "bar": [
           {
            "error_x": {
             "color": "#2a3f5f"
            },
            "error_y": {
             "color": "#2a3f5f"
            },
            "marker": {
             "line": {
              "color": "#E5ECF6",
              "width": 0.5
             },
             "pattern": {
              "fillmode": "overlay",
              "size": 10,
              "solidity": 0.2
             }
            },
            "type": "bar"
           }
          ],
          "barpolar": [
           {
            "marker": {
             "line": {
              "color": "#E5ECF6",
              "width": 0.5
             },
             "pattern": {
              "fillmode": "overlay",
              "size": 10,
              "solidity": 0.2
             }
            },
            "type": "barpolar"
           }
          ],
          "carpet": [
           {
            "aaxis": {
             "endlinecolor": "#2a3f5f",
             "gridcolor": "white",
             "linecolor": "white",
             "minorgridcolor": "white",
             "startlinecolor": "#2a3f5f"
            },
            "baxis": {
             "endlinecolor": "#2a3f5f",
             "gridcolor": "white",
             "linecolor": "white",
             "minorgridcolor": "white",
             "startlinecolor": "#2a3f5f"
            },
            "type": "carpet"
           }
          ],
          "choropleth": [
           {
            "colorbar": {
             "outlinewidth": 0,
             "ticks": ""
            },
            "type": "choropleth"
           }
          ],
          "contour": [
           {
            "colorbar": {
             "outlinewidth": 0,
             "ticks": ""
            },
            "colorscale": [
             [
              0,
              "#0d0887"
             ],
             [
              0.1111111111111111,
              "#46039f"
             ],
             [
              0.2222222222222222,
              "#7201a8"
             ],
             [
              0.3333333333333333,
              "#9c179e"
             ],
             [
              0.4444444444444444,
              "#bd3786"
             ],
             [
              0.5555555555555556,
              "#d8576b"
             ],
             [
              0.6666666666666666,
              "#ed7953"
             ],
             [
              0.7777777777777778,
              "#fb9f3a"
             ],
             [
              0.8888888888888888,
              "#fdca26"
             ],
             [
              1,
              "#f0f921"
             ]
            ],
            "type": "contour"
           }
          ],
          "contourcarpet": [
           {
            "colorbar": {
             "outlinewidth": 0,
             "ticks": ""
            },
            "type": "contourcarpet"
           }
          ],
          "heatmap": [
           {
            "colorbar": {
             "outlinewidth": 0,
             "ticks": ""
            },
            "colorscale": [
             [
              0,
              "#0d0887"
             ],
             [
              0.1111111111111111,
              "#46039f"
             ],
             [
              0.2222222222222222,
              "#7201a8"
             ],
             [
              0.3333333333333333,
              "#9c179e"
             ],
             [
              0.4444444444444444,
              "#bd3786"
             ],
             [
              0.5555555555555556,
              "#d8576b"
             ],
             [
              0.6666666666666666,
              "#ed7953"
             ],
             [
              0.7777777777777778,
              "#fb9f3a"
             ],
             [
              0.8888888888888888,
              "#fdca26"
             ],
             [
              1,
              "#f0f921"
             ]
            ],
            "type": "heatmap"
           }
          ],
          "heatmapgl": [
           {
            "colorbar": {
             "outlinewidth": 0,
             "ticks": ""
            },
            "colorscale": [
             [
              0,
              "#0d0887"
             ],
             [
              0.1111111111111111,
              "#46039f"
             ],
             [
              0.2222222222222222,
              "#7201a8"
             ],
             [
              0.3333333333333333,
              "#9c179e"
             ],
             [
              0.4444444444444444,
              "#bd3786"
             ],
             [
              0.5555555555555556,
              "#d8576b"
             ],
             [
              0.6666666666666666,
              "#ed7953"
             ],
             [
              0.7777777777777778,
              "#fb9f3a"
             ],
             [
              0.8888888888888888,
              "#fdca26"
             ],
             [
              1,
              "#f0f921"
             ]
            ],
            "type": "heatmapgl"
           }
          ],
          "histogram": [
           {
            "marker": {
             "pattern": {
              "fillmode": "overlay",
              "size": 10,
              "solidity": 0.2
             }
            },
            "type": "histogram"
           }
          ],
          "histogram2d": [
           {
            "colorbar": {
             "outlinewidth": 0,
             "ticks": ""
            },
            "colorscale": [
             [
              0,
              "#0d0887"
             ],
             [
              0.1111111111111111,
              "#46039f"
             ],
             [
              0.2222222222222222,
              "#7201a8"
             ],
             [
              0.3333333333333333,
              "#9c179e"
             ],
             [
              0.4444444444444444,
              "#bd3786"
             ],
             [
              0.5555555555555556,
              "#d8576b"
             ],
             [
              0.6666666666666666,
              "#ed7953"
             ],
             [
              0.7777777777777778,
              "#fb9f3a"
             ],
             [
              0.8888888888888888,
              "#fdca26"
             ],
             [
              1,
              "#f0f921"
             ]
            ],
            "type": "histogram2d"
           }
          ],
          "histogram2dcontour": [
           {
            "colorbar": {
             "outlinewidth": 0,
             "ticks": ""
            },
            "colorscale": [
             [
              0,
              "#0d0887"
             ],
             [
              0.1111111111111111,
              "#46039f"
             ],
             [
              0.2222222222222222,
              "#7201a8"
             ],
             [
              0.3333333333333333,
              "#9c179e"
             ],
             [
              0.4444444444444444,
              "#bd3786"
             ],
             [
              0.5555555555555556,
              "#d8576b"
             ],
             [
              0.6666666666666666,
              "#ed7953"
             ],
             [
              0.7777777777777778,
              "#fb9f3a"
             ],
             [
              0.8888888888888888,
              "#fdca26"
             ],
             [
              1,
              "#f0f921"
             ]
            ],
            "type": "histogram2dcontour"
           }
          ],
          "mesh3d": [
           {
            "colorbar": {
             "outlinewidth": 0,
             "ticks": ""
            },
            "type": "mesh3d"
           }
          ],
          "parcoords": [
           {
            "line": {
             "colorbar": {
              "outlinewidth": 0,
              "ticks": ""
             }
            },
            "type": "parcoords"
           }
          ],
          "pie": [
           {
            "automargin": true,
            "type": "pie"
           }
          ],
          "scatter": [
           {
            "marker": {
             "colorbar": {
              "outlinewidth": 0,
              "ticks": ""
             }
            },
            "type": "scatter"
           }
          ],
          "scatter3d": [
           {
            "line": {
             "colorbar": {
              "outlinewidth": 0,
              "ticks": ""
             }
            },
            "marker": {
             "colorbar": {
              "outlinewidth": 0,
              "ticks": ""
             }
            },
            "type": "scatter3d"
           }
          ],
          "scattercarpet": [
           {
            "marker": {
             "colorbar": {
              "outlinewidth": 0,
              "ticks": ""
             }
            },
            "type": "scattercarpet"
           }
          ],
          "scattergeo": [
           {
            "marker": {
             "colorbar": {
              "outlinewidth": 0,
              "ticks": ""
             }
            },
            "type": "scattergeo"
           }
          ],
          "scattergl": [
           {
            "marker": {
             "colorbar": {
              "outlinewidth": 0,
              "ticks": ""
             }
            },
            "type": "scattergl"
           }
          ],
          "scattermapbox": [
           {
            "marker": {
             "colorbar": {
              "outlinewidth": 0,
              "ticks": ""
             }
            },
            "type": "scattermapbox"
           }
          ],
          "scatterpolar": [
           {
            "marker": {
             "colorbar": {
              "outlinewidth": 0,
              "ticks": ""
             }
            },
            "type": "scatterpolar"
           }
          ],
          "scatterpolargl": [
           {
            "marker": {
             "colorbar": {
              "outlinewidth": 0,
              "ticks": ""
             }
            },
            "type": "scatterpolargl"
           }
          ],
          "scatterternary": [
           {
            "marker": {
             "colorbar": {
              "outlinewidth": 0,
              "ticks": ""
             }
            },
            "type": "scatterternary"
           }
          ],
          "surface": [
           {
            "colorbar": {
             "outlinewidth": 0,
             "ticks": ""
            },
            "colorscale": [
             [
              0,
              "#0d0887"
             ],
             [
              0.1111111111111111,
              "#46039f"
             ],
             [
              0.2222222222222222,
              "#7201a8"
             ],
             [
              0.3333333333333333,
              "#9c179e"
             ],
             [
              0.4444444444444444,
              "#bd3786"
             ],
             [
              0.5555555555555556,
              "#d8576b"
             ],
             [
              0.6666666666666666,
              "#ed7953"
             ],
             [
              0.7777777777777778,
              "#fb9f3a"
             ],
             [
              0.8888888888888888,
              "#fdca26"
             ],
             [
              1,
              "#f0f921"
             ]
            ],
            "type": "surface"
           }
          ],
          "table": [
           {
            "cells": {
             "fill": {
              "color": "#EBF0F8"
             },
             "line": {
              "color": "white"
             }
            },
            "header": {
             "fill": {
              "color": "#C8D4E3"
             },
             "line": {
              "color": "white"
             }
            },
            "type": "table"
           }
          ]
         },
         "layout": {
          "annotationdefaults": {
           "arrowcolor": "#2a3f5f",
           "arrowhead": 0,
           "arrowwidth": 1
          },
          "autotypenumbers": "strict",
          "coloraxis": {
           "colorbar": {
            "outlinewidth": 0,
            "ticks": ""
           }
          },
          "colorscale": {
           "diverging": [
            [
             0,
             "#8e0152"
            ],
            [
             0.1,
             "#c51b7d"
            ],
            [
             0.2,
             "#de77ae"
            ],
            [
             0.3,
             "#f1b6da"
            ],
            [
             0.4,
             "#fde0ef"
            ],
            [
             0.5,
             "#f7f7f7"
            ],
            [
             0.6,
             "#e6f5d0"
            ],
            [
             0.7,
             "#b8e186"
            ],
            [
             0.8,
             "#7fbc41"
            ],
            [
             0.9,
             "#4d9221"
            ],
            [
             1,
             "#276419"
            ]
           ],
           "sequential": [
            [
             0,
             "#0d0887"
            ],
            [
             0.1111111111111111,
             "#46039f"
            ],
            [
             0.2222222222222222,
             "#7201a8"
            ],
            [
             0.3333333333333333,
             "#9c179e"
            ],
            [
             0.4444444444444444,
             "#bd3786"
            ],
            [
             0.5555555555555556,
             "#d8576b"
            ],
            [
             0.6666666666666666,
             "#ed7953"
            ],
            [
             0.7777777777777778,
             "#fb9f3a"
            ],
            [
             0.8888888888888888,
             "#fdca26"
            ],
            [
             1,
             "#f0f921"
            ]
           ],
           "sequentialminus": [
            [
             0,
             "#0d0887"
            ],
            [
             0.1111111111111111,
             "#46039f"
            ],
            [
             0.2222222222222222,
             "#7201a8"
            ],
            [
             0.3333333333333333,
             "#9c179e"
            ],
            [
             0.4444444444444444,
             "#bd3786"
            ],
            [
             0.5555555555555556,
             "#d8576b"
            ],
            [
             0.6666666666666666,
             "#ed7953"
            ],
            [
             0.7777777777777778,
             "#fb9f3a"
            ],
            [
             0.8888888888888888,
             "#fdca26"
            ],
            [
             1,
             "#f0f921"
            ]
           ]
          },
          "colorway": [
           "#636efa",
           "#EF553B",
           "#00cc96",
           "#ab63fa",
           "#FFA15A",
           "#19d3f3",
           "#FF6692",
           "#B6E880",
           "#FF97FF",
           "#FECB52"
          ],
          "font": {
           "color": "#2a3f5f"
          },
          "geo": {
           "bgcolor": "white",
           "lakecolor": "white",
           "landcolor": "#E5ECF6",
           "showlakes": true,
           "showland": true,
           "subunitcolor": "white"
          },
          "hoverlabel": {
           "align": "left"
          },
          "hovermode": "closest",
          "mapbox": {
           "style": "light"
          },
          "paper_bgcolor": "white",
          "plot_bgcolor": "#E5ECF6",
          "polar": {
           "angularaxis": {
            "gridcolor": "white",
            "linecolor": "white",
            "ticks": ""
           },
           "bgcolor": "#E5ECF6",
           "radialaxis": {
            "gridcolor": "white",
            "linecolor": "white",
            "ticks": ""
           }
          },
          "scene": {
           "xaxis": {
            "backgroundcolor": "#E5ECF6",
            "gridcolor": "white",
            "gridwidth": 2,
            "linecolor": "white",
            "showbackground": true,
            "ticks": "",
            "zerolinecolor": "white"
           },
           "yaxis": {
            "backgroundcolor": "#E5ECF6",
            "gridcolor": "white",
            "gridwidth": 2,
            "linecolor": "white",
            "showbackground": true,
            "ticks": "",
            "zerolinecolor": "white"
           },
           "zaxis": {
            "backgroundcolor": "#E5ECF6",
            "gridcolor": "white",
            "gridwidth": 2,
            "linecolor": "white",
            "showbackground": true,
            "ticks": "",
            "zerolinecolor": "white"
           }
          },
          "shapedefaults": {
           "line": {
            "color": "#2a3f5f"
           }
          },
          "ternary": {
           "aaxis": {
            "gridcolor": "white",
            "linecolor": "white",
            "ticks": ""
           },
           "baxis": {
            "gridcolor": "white",
            "linecolor": "white",
            "ticks": ""
           },
           "bgcolor": "#E5ECF6",
           "caxis": {
            "gridcolor": "white",
            "linecolor": "white",
            "ticks": ""
           }
          },
          "title": {
           "x": 0.05
          },
          "xaxis": {
           "automargin": true,
           "gridcolor": "white",
           "linecolor": "white",
           "ticks": "",
           "title": {
            "standoff": 15
           },
           "zerolinecolor": "white",
           "zerolinewidth": 2
          },
          "yaxis": {
           "automargin": true,
           "gridcolor": "white",
           "linecolor": "white",
           "ticks": "",
           "title": {
            "standoff": 15
           },
           "zerolinecolor": "white",
           "zerolinewidth": 2
          }
         }
        }
       }
      },
      "text/html": [
       "<div>                            <div id=\"faebfeaf-7e2d-4492-bf48-8294fb203a8e\" class=\"plotly-graph-div\" style=\"height:525px; width:100%;\"></div>            <script type=\"text/javascript\">                require([\"plotly\"], function(Plotly) {                    window.PLOTLYENV=window.PLOTLYENV || {};                                    if (document.getElementById(\"faebfeaf-7e2d-4492-bf48-8294fb203a8e\")) {                    Plotly.newPlot(                        \"faebfeaf-7e2d-4492-bf48-8294fb203a8e\",                        [{\"fill\":\"toself\",\"name\":\"cluster_0\",\"r\":[65.71887648593449,64.85579350690848,54.73796930222809,66.17248621178608],\"theta\":[\"income\",\"Savings Balance\",\"Chequing Balance\",\"Owing Balance\"],\"type\":\"scatterpolar\"},{\"fill\":\"toself\",\"name\":\"cluster_1\",\"r\":[273.4262930238656,1027.9682604573181,173.7748248396658,73.46257902536803],\"theta\":[\"income\",\"Savings Balance\",\"Chequing Balance\",\"Owing Balance\"],\"type\":\"scatterpolar\"},{\"fill\":\"toself\",\"name\":\"cluster_2\",\"r\":[178.74362256890012,86.56101230974654,69.12209619713308,237.8165002071891],\"theta\":[\"income\",\"Savings Balance\",\"Chequing Balance\",\"Owing Balance\"],\"type\":\"scatterpolar\"},{\"fill\":\"toself\",\"name\":\"cluster_3\",\"r\":[164.2397349471967,142.9897672083454,415.5258764423272,117.72206992381793],\"theta\":[\"income\",\"Savings Balance\",\"Chequing Balance\",\"Owing Balance\"],\"type\":\"scatterpolar\"},{\"fill\":\"toself\",\"name\":\"mean\",\"r\":[100,100,100,100],\"theta\":[\"income\",\"Savings Balance\",\"Chequing Balance\",\"Owing Balance\"],\"type\":\"scatterpolar\"}],                        {\"polar\":{\"radialaxis\":{\"visible\":true}},\"showlegend\":true,\"template\":{\"data\":{\"bar\":[{\"error_x\":{\"color\":\"#2a3f5f\"},\"error_y\":{\"color\":\"#2a3f5f\"},\"marker\":{\"line\":{\"color\":\"#E5ECF6\",\"width\":0.5},\"pattern\":{\"fillmode\":\"overlay\",\"size\":10,\"solidity\":0.2}},\"type\":\"bar\"}],\"barpolar\":[{\"marker\":{\"line\":{\"color\":\"#E5ECF6\",\"width\":0.5},\"pattern\":{\"fillmode\":\"overlay\",\"size\":10,\"solidity\":0.2}},\"type\":\"barpolar\"}],\"carpet\":[{\"aaxis\":{\"endlinecolor\":\"#2a3f5f\",\"gridcolor\":\"white\",\"linecolor\":\"white\",\"minorgridcolor\":\"white\",\"startlinecolor\":\"#2a3f5f\"},\"baxis\":{\"endlinecolor\":\"#2a3f5f\",\"gridcolor\":\"white\",\"linecolor\":\"white\",\"minorgridcolor\":\"white\",\"startlinecolor\":\"#2a3f5f\"},\"type\":\"carpet\"}],\"choropleth\":[{\"colorbar\":{\"outlinewidth\":0,\"ticks\":\"\"},\"type\":\"choropleth\"}],\"contour\":[{\"colorbar\":{\"outlinewidth\":0,\"ticks\":\"\"},\"colorscale\":[[0.0,\"#0d0887\"],[0.1111111111111111,\"#46039f\"],[0.2222222222222222,\"#7201a8\"],[0.3333333333333333,\"#9c179e\"],[0.4444444444444444,\"#bd3786\"],[0.5555555555555556,\"#d8576b\"],[0.6666666666666666,\"#ed7953\"],[0.7777777777777778,\"#fb9f3a\"],[0.8888888888888888,\"#fdca26\"],[1.0,\"#f0f921\"]],\"type\":\"contour\"}],\"contourcarpet\":[{\"colorbar\":{\"outlinewidth\":0,\"ticks\":\"\"},\"type\":\"contourcarpet\"}],\"heatmap\":[{\"colorbar\":{\"outlinewidth\":0,\"ticks\":\"\"},\"colorscale\":[[0.0,\"#0d0887\"],[0.1111111111111111,\"#46039f\"],[0.2222222222222222,\"#7201a8\"],[0.3333333333333333,\"#9c179e\"],[0.4444444444444444,\"#bd3786\"],[0.5555555555555556,\"#d8576b\"],[0.6666666666666666,\"#ed7953\"],[0.7777777777777778,\"#fb9f3a\"],[0.8888888888888888,\"#fdca26\"],[1.0,\"#f0f921\"]],\"type\":\"heatmap\"}],\"heatmapgl\":[{\"colorbar\":{\"outlinewidth\":0,\"ticks\":\"\"},\"colorscale\":[[0.0,\"#0d0887\"],[0.1111111111111111,\"#46039f\"],[0.2222222222222222,\"#7201a8\"],[0.3333333333333333,\"#9c179e\"],[0.4444444444444444,\"#bd3786\"],[0.5555555555555556,\"#d8576b\"],[0.6666666666666666,\"#ed7953\"],[0.7777777777777778,\"#fb9f3a\"],[0.8888888888888888,\"#fdca26\"],[1.0,\"#f0f921\"]],\"type\":\"heatmapgl\"}],\"histogram\":[{\"marker\":{\"pattern\":{\"fillmode\":\"overlay\",\"size\":10,\"solidity\":0.2}},\"type\":\"histogram\"}],\"histogram2d\":[{\"colorbar\":{\"outlinewidth\":0,\"ticks\":\"\"},\"colorscale\":[[0.0,\"#0d0887\"],[0.1111111111111111,\"#46039f\"],[0.2222222222222222,\"#7201a8\"],[0.3333333333333333,\"#9c179e\"],[0.4444444444444444,\"#bd3786\"],[0.5555555555555556,\"#d8576b\"],[0.6666666666666666,\"#ed7953\"],[0.7777777777777778,\"#fb9f3a\"],[0.8888888888888888,\"#fdca26\"],[1.0,\"#f0f921\"]],\"type\":\"histogram2d\"}],\"histogram2dcontour\":[{\"colorbar\":{\"outlinewidth\":0,\"ticks\":\"\"},\"colorscale\":[[0.0,\"#0d0887\"],[0.1111111111111111,\"#46039f\"],[0.2222222222222222,\"#7201a8\"],[0.3333333333333333,\"#9c179e\"],[0.4444444444444444,\"#bd3786\"],[0.5555555555555556,\"#d8576b\"],[0.6666666666666666,\"#ed7953\"],[0.7777777777777778,\"#fb9f3a\"],[0.8888888888888888,\"#fdca26\"],[1.0,\"#f0f921\"]],\"type\":\"histogram2dcontour\"}],\"mesh3d\":[{\"colorbar\":{\"outlinewidth\":0,\"ticks\":\"\"},\"type\":\"mesh3d\"}],\"parcoords\":[{\"line\":{\"colorbar\":{\"outlinewidth\":0,\"ticks\":\"\"}},\"type\":\"parcoords\"}],\"pie\":[{\"automargin\":true,\"type\":\"pie\"}],\"scatter\":[{\"marker\":{\"colorbar\":{\"outlinewidth\":0,\"ticks\":\"\"}},\"type\":\"scatter\"}],\"scatter3d\":[{\"line\":{\"colorbar\":{\"outlinewidth\":0,\"ticks\":\"\"}},\"marker\":{\"colorbar\":{\"outlinewidth\":0,\"ticks\":\"\"}},\"type\":\"scatter3d\"}],\"scattercarpet\":[{\"marker\":{\"colorbar\":{\"outlinewidth\":0,\"ticks\":\"\"}},\"type\":\"scattercarpet\"}],\"scattergeo\":[{\"marker\":{\"colorbar\":{\"outlinewidth\":0,\"ticks\":\"\"}},\"type\":\"scattergeo\"}],\"scattergl\":[{\"marker\":{\"colorbar\":{\"outlinewidth\":0,\"ticks\":\"\"}},\"type\":\"scattergl\"}],\"scattermapbox\":[{\"marker\":{\"colorbar\":{\"outlinewidth\":0,\"ticks\":\"\"}},\"type\":\"scattermapbox\"}],\"scatterpolar\":[{\"marker\":{\"colorbar\":{\"outlinewidth\":0,\"ticks\":\"\"}},\"type\":\"scatterpolar\"}],\"scatterpolargl\":[{\"marker\":{\"colorbar\":{\"outlinewidth\":0,\"ticks\":\"\"}},\"type\":\"scatterpolargl\"}],\"scatterternary\":[{\"marker\":{\"colorbar\":{\"outlinewidth\":0,\"ticks\":\"\"}},\"type\":\"scatterternary\"}],\"surface\":[{\"colorbar\":{\"outlinewidth\":0,\"ticks\":\"\"},\"colorscale\":[[0.0,\"#0d0887\"],[0.1111111111111111,\"#46039f\"],[0.2222222222222222,\"#7201a8\"],[0.3333333333333333,\"#9c179e\"],[0.4444444444444444,\"#bd3786\"],[0.5555555555555556,\"#d8576b\"],[0.6666666666666666,\"#ed7953\"],[0.7777777777777778,\"#fb9f3a\"],[0.8888888888888888,\"#fdca26\"],[1.0,\"#f0f921\"]],\"type\":\"surface\"}],\"table\":[{\"cells\":{\"fill\":{\"color\":\"#EBF0F8\"},\"line\":{\"color\":\"white\"}},\"header\":{\"fill\":{\"color\":\"#C8D4E3\"},\"line\":{\"color\":\"white\"}},\"type\":\"table\"}]},\"layout\":{\"annotationdefaults\":{\"arrowcolor\":\"#2a3f5f\",\"arrowhead\":0,\"arrowwidth\":1},\"autotypenumbers\":\"strict\",\"coloraxis\":{\"colorbar\":{\"outlinewidth\":0,\"ticks\":\"\"}},\"colorscale\":{\"diverging\":[[0,\"#8e0152\"],[0.1,\"#c51b7d\"],[0.2,\"#de77ae\"],[0.3,\"#f1b6da\"],[0.4,\"#fde0ef\"],[0.5,\"#f7f7f7\"],[0.6,\"#e6f5d0\"],[0.7,\"#b8e186\"],[0.8,\"#7fbc41\"],[0.9,\"#4d9221\"],[1,\"#276419\"]],\"sequential\":[[0.0,\"#0d0887\"],[0.1111111111111111,\"#46039f\"],[0.2222222222222222,\"#7201a8\"],[0.3333333333333333,\"#9c179e\"],[0.4444444444444444,\"#bd3786\"],[0.5555555555555556,\"#d8576b\"],[0.6666666666666666,\"#ed7953\"],[0.7777777777777778,\"#fb9f3a\"],[0.8888888888888888,\"#fdca26\"],[1.0,\"#f0f921\"]],\"sequentialminus\":[[0.0,\"#0d0887\"],[0.1111111111111111,\"#46039f\"],[0.2222222222222222,\"#7201a8\"],[0.3333333333333333,\"#9c179e\"],[0.4444444444444444,\"#bd3786\"],[0.5555555555555556,\"#d8576b\"],[0.6666666666666666,\"#ed7953\"],[0.7777777777777778,\"#fb9f3a\"],[0.8888888888888888,\"#fdca26\"],[1.0,\"#f0f921\"]]},\"colorway\":[\"#636efa\",\"#EF553B\",\"#00cc96\",\"#ab63fa\",\"#FFA15A\",\"#19d3f3\",\"#FF6692\",\"#B6E880\",\"#FF97FF\",\"#FECB52\"],\"font\":{\"color\":\"#2a3f5f\"},\"geo\":{\"bgcolor\":\"white\",\"lakecolor\":\"white\",\"landcolor\":\"#E5ECF6\",\"showlakes\":true,\"showland\":true,\"subunitcolor\":\"white\"},\"hoverlabel\":{\"align\":\"left\"},\"hovermode\":\"closest\",\"mapbox\":{\"style\":\"light\"},\"paper_bgcolor\":\"white\",\"plot_bgcolor\":\"#E5ECF6\",\"polar\":{\"angularaxis\":{\"gridcolor\":\"white\",\"linecolor\":\"white\",\"ticks\":\"\"},\"bgcolor\":\"#E5ECF6\",\"radialaxis\":{\"gridcolor\":\"white\",\"linecolor\":\"white\",\"ticks\":\"\"}},\"scene\":{\"xaxis\":{\"backgroundcolor\":\"#E5ECF6\",\"gridcolor\":\"white\",\"gridwidth\":2,\"linecolor\":\"white\",\"showbackground\":true,\"ticks\":\"\",\"zerolinecolor\":\"white\"},\"yaxis\":{\"backgroundcolor\":\"#E5ECF6\",\"gridcolor\":\"white\",\"gridwidth\":2,\"linecolor\":\"white\",\"showbackground\":true,\"ticks\":\"\",\"zerolinecolor\":\"white\"},\"zaxis\":{\"backgroundcolor\":\"#E5ECF6\",\"gridcolor\":\"white\",\"gridwidth\":2,\"linecolor\":\"white\",\"showbackground\":true,\"ticks\":\"\",\"zerolinecolor\":\"white\"}},\"shapedefaults\":{\"line\":{\"color\":\"#2a3f5f\"}},\"ternary\":{\"aaxis\":{\"gridcolor\":\"white\",\"linecolor\":\"white\",\"ticks\":\"\"},\"baxis\":{\"gridcolor\":\"white\",\"linecolor\":\"white\",\"ticks\":\"\"},\"bgcolor\":\"#E5ECF6\",\"caxis\":{\"gridcolor\":\"white\",\"linecolor\":\"white\",\"ticks\":\"\"}},\"title\":{\"x\":0.05},\"xaxis\":{\"automargin\":true,\"gridcolor\":\"white\",\"linecolor\":\"white\",\"ticks\":\"\",\"title\":{\"standoff\":15},\"zerolinecolor\":\"white\",\"zerolinewidth\":2},\"yaxis\":{\"automargin\":true,\"gridcolor\":\"white\",\"linecolor\":\"white\",\"ticks\":\"\",\"title\":{\"standoff\":15},\"zerolinecolor\":\"white\",\"zerolinewidth\":2}}}},                        {\"responsive\": true}                    ).then(function(){\n",
       "                            \n",
       "var gd = document.getElementById('faebfeaf-7e2d-4492-bf48-8294fb203a8e');\n",
       "var x = new MutationObserver(function (mutations, observer) {{\n",
       "        var display = window.getComputedStyle(gd).display;\n",
       "        if (!display || display === 'none') {{\n",
       "            console.log([gd, 'removed!']);\n",
       "            Plotly.purge(gd);\n",
       "            observer.disconnect();\n",
       "        }}\n",
       "}});\n",
       "\n",
       "// Listen for the removal of the full notebook cells\n",
       "var notebookContainer = gd.closest('#notebook-container');\n",
       "if (notebookContainer) {{\n",
       "    x.observe(notebookContainer, {childList: true});\n",
       "}}\n",
       "\n",
       "// Listen for the clearing of the current output cell\n",
       "var outputEl = gd.closest('.output');\n",
       "if (outputEl) {{\n",
       "    x.observe(outputEl, {childList: true});\n",
       "}}\n",
       "\n",
       "                        })                };                });            </script>        </div>"
      ]
     },
     "metadata": {},
     "output_type": "display_data"
    }
   ],
   "source": [
    "import plotly.graph_objects as go\n",
    "\n",
    "scaled_df['cluster'] = KMeans(n_clusters=4, n_init=10).fit_predict(scaled_df)\n",
    "\n",
    "scaled_df['cluster'].value_counts()\n",
    "\n",
    "df_radar = scaled_df.groupby('cluster').mean().divide(scaled_df.drop('cluster',axis=1).mean())*100\n",
    "\n",
    "def plot_radar_chart(df):\n",
    "    data = []\n",
    "    for i in range(0,len(df)):\n",
    "        data.append(go.Scatterpolar(r = df.iloc[i].values,\n",
    "                                    theta = df.iloc[i].index,\n",
    "                                    name = f'cluster_{df.index[i]}',\n",
    "                                    fill = 'toself'))\n",
    "    # mean line\n",
    "    data.append(go.Scatterpolar(r = [100]* df.shape[1],\n",
    "                                theta= df.columns,\n",
    "                                name = 'mean',\n",
    "                                fill = 'toself'))\n",
    "    layout = go.Layout(polar = dict(radialaxis = dict(visible = True)),\n",
    "                       showlegend = True)\n",
    "    fig = go.Figure(data = data, layout = layout)\n",
    "    fig.show()\n",
    "plot_radar_chart(df_radar)\n"
   ]
  },
  {
   "cell_type": "code",
   "execution_count": 183,
   "metadata": {},
   "outputs": [
    {
     "data": {
      "text/html": [
       "<div>\n",
       "<style scoped>\n",
       "    .dataframe tbody tr th:only-of-type {\n",
       "        vertical-align: middle;\n",
       "    }\n",
       "\n",
       "    .dataframe tbody tr th {\n",
       "        vertical-align: top;\n",
       "    }\n",
       "\n",
       "    .dataframe thead th {\n",
       "        text-align: right;\n",
       "    }\n",
       "</style>\n",
       "<table border=\"1\" class=\"dataframe\">\n",
       "  <thead>\n",
       "    <tr style=\"text-align: right;\">\n",
       "      <th></th>\n",
       "      <th>income</th>\n",
       "      <th>Savings Balance</th>\n",
       "      <th>Chequing Balance</th>\n",
       "      <th>Owing Balance</th>\n",
       "    </tr>\n",
       "    <tr>\n",
       "      <th>cluster</th>\n",
       "      <th></th>\n",
       "      <th></th>\n",
       "      <th></th>\n",
       "      <th></th>\n",
       "    </tr>\n",
       "  </thead>\n",
       "  <tbody>\n",
       "    <tr>\n",
       "      <th>0</th>\n",
       "      <td>65.718876</td>\n",
       "      <td>64.855794</td>\n",
       "      <td>54.737969</td>\n",
       "      <td>66.172486</td>\n",
       "    </tr>\n",
       "    <tr>\n",
       "      <th>1</th>\n",
       "      <td>273.426293</td>\n",
       "      <td>1027.968260</td>\n",
       "      <td>173.774825</td>\n",
       "      <td>73.462579</td>\n",
       "    </tr>\n",
       "    <tr>\n",
       "      <th>2</th>\n",
       "      <td>178.743623</td>\n",
       "      <td>86.561012</td>\n",
       "      <td>69.122096</td>\n",
       "      <td>237.816500</td>\n",
       "    </tr>\n",
       "    <tr>\n",
       "      <th>3</th>\n",
       "      <td>164.239735</td>\n",
       "      <td>142.989767</td>\n",
       "      <td>415.525876</td>\n",
       "      <td>117.722070</td>\n",
       "    </tr>\n",
       "  </tbody>\n",
       "</table>\n",
       "</div>"
      ],
      "text/plain": [
       "             income  Savings Balance  Chequing Balance  Owing Balance\n",
       "cluster                                                              \n",
       "0         65.718876        64.855794         54.737969      66.172486\n",
       "1        273.426293      1027.968260        173.774825      73.462579\n",
       "2        178.743623        86.561012         69.122096     237.816500\n",
       "3        164.239735       142.989767        415.525876     117.722070"
      ]
     },
     "execution_count": 183,
     "metadata": {},
     "output_type": "execute_result"
    }
   ],
   "source": [
    "df_radar.head()"
   ]
  },
  {
   "cell_type": "code",
   "execution_count": 184,
   "metadata": {},
   "outputs": [],
   "source": [
    "from sklearn.decomposition import PCA\n",
    "pca = PCA(n_components=2)\n",
    "PCA_transform = pca.fit_transform(scaled_df)\n",
    "df_pca = pd.DataFrame(PCA_transform, columns = ['PC1', 'PC2'])\n",
    "df_pca['cluster'] = scaled_df['cluster']"
   ]
  },
  {
   "cell_type": "code",
   "execution_count": 185,
   "metadata": {},
   "outputs": [
    {
     "data": {
      "text/html": [
       "<div>\n",
       "<style scoped>\n",
       "    .dataframe tbody tr th:only-of-type {\n",
       "        vertical-align: middle;\n",
       "    }\n",
       "\n",
       "    .dataframe tbody tr th {\n",
       "        vertical-align: top;\n",
       "    }\n",
       "\n",
       "    .dataframe thead th {\n",
       "        text-align: right;\n",
       "    }\n",
       "</style>\n",
       "<table border=\"1\" class=\"dataframe\">\n",
       "  <thead>\n",
       "    <tr style=\"text-align: right;\">\n",
       "      <th></th>\n",
       "      <th>PC1</th>\n",
       "      <th>PC2</th>\n",
       "      <th>cluster</th>\n",
       "    </tr>\n",
       "  </thead>\n",
       "  <tbody>\n",
       "    <tr>\n",
       "      <th>0</th>\n",
       "      <td>-0.477804</td>\n",
       "      <td>-0.639555</td>\n",
       "      <td>0</td>\n",
       "    </tr>\n",
       "    <tr>\n",
       "      <th>1</th>\n",
       "      <td>-0.593842</td>\n",
       "      <td>0.650484</td>\n",
       "      <td>0</td>\n",
       "    </tr>\n",
       "    <tr>\n",
       "      <th>2</th>\n",
       "      <td>-0.437524</td>\n",
       "      <td>0.482773</td>\n",
       "      <td>0</td>\n",
       "    </tr>\n",
       "    <tr>\n",
       "      <th>3</th>\n",
       "      <td>-1.007574</td>\n",
       "      <td>0.505454</td>\n",
       "      <td>0</td>\n",
       "    </tr>\n",
       "    <tr>\n",
       "      <th>4</th>\n",
       "      <td>0.530488</td>\n",
       "      <td>-1.883020</td>\n",
       "      <td>2</td>\n",
       "    </tr>\n",
       "    <tr>\n",
       "      <th>5</th>\n",
       "      <td>-1.006898</td>\n",
       "      <td>-0.264548</td>\n",
       "      <td>0</td>\n",
       "    </tr>\n",
       "    <tr>\n",
       "      <th>6</th>\n",
       "      <td>-1.267301</td>\n",
       "      <td>-0.440988</td>\n",
       "      <td>0</td>\n",
       "    </tr>\n",
       "    <tr>\n",
       "      <th>7</th>\n",
       "      <td>-0.608077</td>\n",
       "      <td>0.552653</td>\n",
       "      <td>0</td>\n",
       "    </tr>\n",
       "    <tr>\n",
       "      <th>8</th>\n",
       "      <td>2.003469</td>\n",
       "      <td>-0.594553</td>\n",
       "      <td>3</td>\n",
       "    </tr>\n",
       "    <tr>\n",
       "      <th>9</th>\n",
       "      <td>-0.243909</td>\n",
       "      <td>-0.152716</td>\n",
       "      <td>0</td>\n",
       "    </tr>\n",
       "    <tr>\n",
       "      <th>10</th>\n",
       "      <td>-0.462642</td>\n",
       "      <td>0.476984</td>\n",
       "      <td>0</td>\n",
       "    </tr>\n",
       "    <tr>\n",
       "      <th>11</th>\n",
       "      <td>-0.882411</td>\n",
       "      <td>-0.327883</td>\n",
       "      <td>0</td>\n",
       "    </tr>\n",
       "    <tr>\n",
       "      <th>12</th>\n",
       "      <td>-0.706816</td>\n",
       "      <td>0.731778</td>\n",
       "      <td>0</td>\n",
       "    </tr>\n",
       "    <tr>\n",
       "      <th>13</th>\n",
       "      <td>-0.940337</td>\n",
       "      <td>-0.192290</td>\n",
       "      <td>0</td>\n",
       "    </tr>\n",
       "    <tr>\n",
       "      <th>14</th>\n",
       "      <td>-0.925170</td>\n",
       "      <td>0.171748</td>\n",
       "      <td>0</td>\n",
       "    </tr>\n",
       "    <tr>\n",
       "      <th>15</th>\n",
       "      <td>-0.905920</td>\n",
       "      <td>-0.246194</td>\n",
       "      <td>0</td>\n",
       "    </tr>\n",
       "    <tr>\n",
       "      <th>16</th>\n",
       "      <td>-1.177255</td>\n",
       "      <td>-0.355961</td>\n",
       "      <td>0</td>\n",
       "    </tr>\n",
       "    <tr>\n",
       "      <th>17</th>\n",
       "      <td>-0.479439</td>\n",
       "      <td>0.989161</td>\n",
       "      <td>0</td>\n",
       "    </tr>\n",
       "    <tr>\n",
       "      <th>18</th>\n",
       "      <td>-0.419117</td>\n",
       "      <td>0.714961</td>\n",
       "      <td>0</td>\n",
       "    </tr>\n",
       "    <tr>\n",
       "      <th>19</th>\n",
       "      <td>-0.452190</td>\n",
       "      <td>-0.053057</td>\n",
       "      <td>0</td>\n",
       "    </tr>\n",
       "  </tbody>\n",
       "</table>\n",
       "</div>"
      ],
      "text/plain": [
       "         PC1       PC2  cluster\n",
       "0  -0.477804 -0.639555        0\n",
       "1  -0.593842  0.650484        0\n",
       "2  -0.437524  0.482773        0\n",
       "3  -1.007574  0.505454        0\n",
       "4   0.530488 -1.883020        2\n",
       "5  -1.006898 -0.264548        0\n",
       "6  -1.267301 -0.440988        0\n",
       "7  -0.608077  0.552653        0\n",
       "8   2.003469 -0.594553        3\n",
       "9  -0.243909 -0.152716        0\n",
       "10 -0.462642  0.476984        0\n",
       "11 -0.882411 -0.327883        0\n",
       "12 -0.706816  0.731778        0\n",
       "13 -0.940337 -0.192290        0\n",
       "14 -0.925170  0.171748        0\n",
       "15 -0.905920 -0.246194        0\n",
       "16 -1.177255 -0.355961        0\n",
       "17 -0.479439  0.989161        0\n",
       "18 -0.419117  0.714961        0\n",
       "19 -0.452190 -0.053057        0"
      ]
     },
     "execution_count": 185,
     "metadata": {},
     "output_type": "execute_result"
    }
   ],
   "source": [
    "df_pca.head(20)"
   ]
  },
  {
   "cell_type": "code",
   "execution_count": 186,
   "metadata": {},
   "outputs": [],
   "source": [
    "def plot_PCA(df):\n",
    "    data = []\n",
    "    for cluster in df.cluster.unique():\n",
    "        to_plot = df[df['cluster'] == cluster]\n",
    "        data.append(go.Scatter(x=to_plot['PC1'], \n",
    "                               y=to_plot['PC2'], \n",
    "                               mode='markers', name = f'cluster_{cluster}'))\n",
    "    layout = go.Layout(title=\"PCA\",\n",
    "                       xaxis_title=\"PC1\",\n",
    "                       yaxis_title=\"PC2\",)\n",
    "    fig = go.Figure(data=data,layout=layout)\n",
    "    fig.show()\n"
   ]
  },
  {
   "cell_type": "code",
   "execution_count": 187,
   "metadata": {},
   "outputs": [
    {
     "data": {
      "application/vnd.plotly.v1+json": {
       "config": {
        "plotlyServerURL": "https://plot.ly"
       },
       "data": [
        {
         "mode": "markers",
         "name": "cluster_0",
         "type": "scatter",
         "x": [
          -0.47780445342837774,
          -0.5938416183181243,
          -0.43752381600883705,
          -1.0075739112518145,
          -1.0068976252977515,
          -1.2673006607702848,
          -0.6080768898974253,
          -0.24390911143738084,
          -0.46264193239310525,
          -0.8824110470091572,
          -0.7068158671865339,
          -0.9403373741578024,
          -0.9251702508783405,
          -0.9059203338560379,
          -1.1772553594716983,
          -0.4794386644460993,
          -0.4191166899183026,
          -0.452190073541851,
          -1.2292927482993115,
          -1.1988129483075498,
          -0.9575461502896078,
          -1.0793748294717598,
          -1.0065423831320266,
          -0.6354060017608736,
          -0.8833152598989954,
          -1.4295001104624951,
          -0.8628661243627364,
          -0.5645427612579319,
          -0.9111902348879849,
          -0.15250716775397719,
          -1.1632849551400535,
          -0.5503048147028676,
          -0.8572659301200435,
          -0.546761913606382,
          -1.0670850395117726,
          -0.8725816426973504,
          -0.5586351393707258,
          -0.8344276999345871,
          -0.520745175573314,
          -1.1165842801546841,
          -1.3343179125386684,
          -1.1337395113915476,
          -1.2590183373813533,
          -1.122891029735188,
          -1.5022788653760437,
          -0.9066397009773854,
          -0.5608204529741609,
          -0.728950343475497,
          -0.656226251185319,
          -1.1126196356297375,
          -0.8052557197783534,
          -0.8687679461237136,
          -1.3068095374927458,
          -1.3721876582012327,
          -1.424487043253758,
          -0.9089164909896306,
          -0.5965081403596736,
          -1.0548111417749195,
          -0.8763417666361278,
          -1.3469781376034449,
          -0.7744204947140279,
          -0.9713903658481865,
          -0.843870252874645,
          -1.3025358402157265,
          -0.5630078039496693,
          -1.2837163331361354,
          -0.4786274239176806,
          -0.29860237365500175,
          -1.2063801488116002,
          -0.4185695939430239,
          -0.7630089526946573,
          -1.2944054580321127,
          -1.2991062157180409,
          -0.5853739317264458,
          -1.152322693635741,
          -0.8544419194976541,
          -1.565348436207537,
          -1.0623198988707152,
          -0.49556516264019806,
          -1.1580054208147563,
          -1.3631755470248874,
          -1.6197313142455894,
          -0.8014797757809408,
          -1.1664272679975947,
          -0.8693936473424515,
          -0.7163828793717107,
          -0.8569158864931206,
          -0.8437879128234432,
          -0.9094040294427348,
          -1.059203880224923,
          -1.4807743259892348,
          -1.32453002850984,
          -0.8867569821139156,
          -0.7774505863507705,
          -1.5951546548028472,
          -0.9065460141859029,
          -0.41907936693051184,
          -0.6714263723741051,
          -0.987348636402141,
          -1.070551695353632,
          -1.1238514308095855,
          -0.47291892880087416,
          -0.4075790741688004,
          -0.9465278612884652,
          -1.2533289952256366,
          -0.9741210814248943,
          -1.352233727928498,
          -1.100150211986692,
          -1.3933556092860027,
          -0.9903965672653123,
          -1.4336476620010477,
          -0.996921452503191,
          -0.30486334341698235,
          -1.2528428720699096,
          -0.6628240152399698,
          -0.7392516556029973,
          -1.0717602671610678,
          -1.0903845810602426,
          -1.329524710425798,
          -0.7811494391420678,
          -0.9531479174665425,
          -0.41075997762742256,
          -0.6396987635791843,
          -1.40126347894868,
          -1.0297591840768987,
          -0.8695453411038447,
          -1.198862464785701,
          0.06172221133048984,
          -1.0448884079493348,
          -1.1099085379492328,
          -1.2815540082566361,
          -1.3015071538826002,
          -0.5539101630933874,
          -1.1216757882426667,
          -0.5096121737699958,
          -0.6706216886938428,
          -1.3781230793566595,
          -0.6933561687387463,
          -1.0945862299911182,
          -1.5283833013942034,
          -0.9341600207491391,
          -0.5519857372870192,
          -0.7208520935425802,
          -0.34509174285135635,
          -0.8952938001135115,
          -0.8946420338217823,
          -0.8857255084060986,
          -0.9439658421909407,
          -0.7271122746052816,
          -0.6823784266829598,
          -0.9998261854457372,
          -0.9228773787692773,
          -0.8401055520412215,
          -1.2888789018711102,
          -0.03612408443387837,
          -1.5303614880169851,
          -0.9878663179056543,
          -0.7032322551457538,
          -0.9563324609782239,
          -0.07880567505380928,
          -1.1210805426995176,
          -0.6376468925334446,
          -0.7309507191557378,
          -1.043853374749203,
          -0.6803893001371163,
          -1.4135314298334183,
          -0.9342384461458554,
          -0.888305648341954,
          -1.0570685638211366,
          -1.158401891717519,
          -0.3778650952817574,
          -1.0670329935962024,
          -1.4057556442929726,
          -1.0176143985575117,
          -0.09051067153534333,
          -0.07246145704648506,
          -1.1075918739617812
         ],
         "y": [
          -0.6395547207174767,
          0.6504836261397169,
          0.48277316752929,
          0.5054542047772321,
          -0.2645479661606929,
          -0.44098833139958066,
          0.5526533172875931,
          -0.15271603865694902,
          0.47698416379605035,
          -0.32788345315163087,
          0.7317783631830406,
          -0.19229029655334048,
          0.17174814926246648,
          -0.24619398089167632,
          -0.35596056574956125,
          0.98916058583352,
          0.7149609658903419,
          -0.05305720686489338,
          0.04969553269198661,
          0.19689920230229058,
          -0.12184314791416523,
          -0.23478630063712616,
          -0.3045054577488841,
          0.34196900244385564,
          0.3195382843827387,
          0.2031483283630952,
          0.6075415112895347,
          -0.1507458528902179,
          -0.4321092731398383,
          0.3685051536897306,
          0.5390459178966523,
          0.9664579084433845,
          0.49262935662063356,
          -0.006928117902417988,
          0.2434072310804559,
          -0.2958483519538602,
          -0.2695721426337276,
          0.02187112495037334,
          -0.0712504992983739,
          -0.33177043706987175,
          -0.2966708855760363,
          0.3053467803469091,
          -0.3850670359093464,
          -0.04242785916130914,
          -0.061342945370646766,
          0.006311579344107375,
          -0.37772094887819013,
          -0.02814071494305331,
          -0.17240443036415815,
          0.20621879572804613,
          0.15862789946940611,
          -0.082768318805259,
          -0.0796698079839773,
          0.2571366176307383,
          0.13539117768155312,
          -0.282210403380962,
          0.6489641420616338,
          -0.4766233704571909,
          1.2711084381015314,
          -0.4229289458857652,
          -0.3361455091085414,
          0.5269533655025074,
          -0.12589546662394266,
          -0.10218822903995642,
          -0.49606981994561683,
          -0.4364814468349886,
          0.20940786026815816,
          -0.19523888092335995,
          -0.06851354868069635,
          0.03192794696593872,
          0.11435747125741243,
          -0.17954669211961471,
          -0.09083769289505776,
          -0.11720359896014604,
          0.4640149637168337,
          -0.21597044269987883,
          -0.07154145527003584,
          -0.370495766845339,
          0.6209030599885602,
          0.24815834091999223,
          -0.3808833010013464,
          0.09195334306510076,
          -0.08860030602749844,
          0.7633889640211556,
          0.36141940604130035,
          0.22439782215908244,
          -0.31705225029326917,
          0.015406317529638761,
          -0.10030229176633362,
          -0.2839507110742733,
          -0.16721860287732482,
          0.20301931470438128,
          -0.3744503138697739,
          0.21192216468271333,
          0.08873756269359423,
          0.2970399194454103,
          0.215638696494851,
          -0.30406893411957125,
          0.11562458534670443,
          0.15784791423300604,
          0.019147723901119393,
          -0.0586121371444946,
          -0.2229119335211644,
          0.21080998694514325,
          0.10758190977990756,
          0.06459187220215629,
          0.3040762699428927,
          0.6238056390889086,
          0.06118301282759156,
          -0.024805440971054384,
          0.2132396074972794,
          0.10425212488702364,
          0.8048999433713847,
          0.1541624432913464,
          -0.3017855121332088,
          -0.31232321880895886,
          -0.22377135065298276,
          0.06781319378190663,
          -0.1710771097172784,
          0.5385649505916071,
          0.43704573865610963,
          0.8789661326023418,
          0.058083359894318766,
          0.20995385136303596,
          -0.04272104129346661,
          0.7985135083838788,
          -0.403200357073716,
          2.2829080245232944,
          -0.3763212928764465,
          0.050022039910902434,
          0.10568671127766714,
          0.20554257758127106,
          0.9842888895104092,
          -0.014688560631861901,
          -0.14243883239594635,
          0.5207218271628159,
          -0.4456002566340302,
          -0.6356954277527145,
          -0.11156011409776923,
          0.21919674198979644,
          -0.6185735976070424,
          0.6989535707966524,
          0.21296804019233603,
          0.4307014463007048,
          0.2959105358800379,
          -0.2967779167293566,
          0.5005944172503768,
          -0.23220966679336957,
          -0.24860743089889234,
          1.3810490525416943,
          -0.3874944462318743,
          0.4818945632571115,
          -0.0036640540770084894,
          -0.0015076352424592857,
          1.1286027765131763,
          0.21503416640118364,
          0.5528534309725508,
          0.3697051688875891,
          0.30865528635551437,
          -0.29241301826340516,
          -0.47018420017713786,
          -0.2502233888657589,
          -0.643076000177136,
          -0.1544775021277036,
          0.48337324612544574,
          -0.06430127004435394,
          -0.23379563464682715,
          -0.3947201831739148,
          0.18003907462100752,
          -0.0973040128125578,
          0.6482248494541842,
          -0.4567369203315122,
          0.15819289052116273,
          -0.36039436888541,
          0.21548557498357046,
          0.5394545449382203,
          -0.35053887275969675
         ]
        },
        {
         "mode": "markers",
         "name": "cluster_2",
         "type": "scatter",
         "x": [
          0.5304881240517054,
          2.126090120810842,
          2.921560156605303,
          0.8703023144015541,
          1.751174343506591,
          3.848264590797031,
          0.9107789254602358,
          1.0079832909799167,
          2.211381389810649,
          1.8694101035638784,
          1.3802007267049916,
          1.1557490592689568,
          2.117338251813714,
          1.4108311526163833,
          1.633240692728247,
          0.9006146139331906,
          1.1016305204914674,
          1.1457587892041543,
          1.6326425313773578,
          1.0512818141733098,
          1.2326270370870644,
          1.8609830603578,
          1.3041845510991432,
          0.7689146947342899,
          1.3259859546044377,
          1.2803485872262879,
          0.5269779835251094,
          1.343459597448253,
          1.3048777623444234,
          1.837395721385765,
          1.8764935835614505,
          1.0870694512604009,
          2.0618986842739693,
          1.34602837071058,
          5.095358496895664,
          1.7008764936246232,
          1.498764980555985,
          2.2712929461403397,
          0.9266520149066941,
          1.0459419200978355,
          1.167439132811237
         ],
         "y": [
          -1.8830197455453628,
          -0.9303605781271238,
          -1.0741616226731823,
          -1.4738903724571357,
          -0.42523294521257216,
          -0.6711297682846562,
          -1.3998888682041934,
          -0.30896402564684355,
          -2.23547977745271,
          -0.09131160211783024,
          -0.9060087014394956,
          -1.5836466561953584,
          -0.6396205116046727,
          -0.026047177929362415,
          -0.3885328897183947,
          -1.6457720693920466,
          -0.8821407397641172,
          -0.7449881443456107,
          -0.5372075122211012,
          -1.150714935646068,
          -1.6340371731113188,
          0.18522208344146207,
          -0.46651650490282953,
          -0.9233938198531821,
          -0.5996360249099425,
          -1.6620541584271518,
          -1.7845724707235677,
          -0.01029901563190554,
          -0.6508298985318473,
          -0.7327508810788554,
          0.041611525813901616,
          -0.24675998822554135,
          -1.081474954472801,
          -1.0015704459836703,
          -1.828144770319604,
          -0.8984668206169699,
          -1.0918176102996022,
          0.3498674180431507,
          -1.6419633665268873,
          -0.6262919116398828,
          -0.802307475125726
         ]
        },
        {
         "mode": "markers",
         "name": "cluster_3",
         "type": "scatter",
         "x": [
          2.0034692925665927,
          4.431693387173429,
          3.0224472714393116,
          1.7652571373487775,
          3.774205332125142,
          2.289286802695467,
          1.7561071764213627,
          2.7057819763932955,
          2.901188127554833,
          1.7580230558032492,
          2.7043395138447255,
          3.5384102375105337,
          1.8210803571877963,
          2.3700845384231215,
          2.5484676747135064,
          2.6004180977760347,
          3.28409213853831,
          7.477051036268047,
          2.65409459949388,
          3.1169933108536205,
          2.012778563571893,
          1.9972238233113349,
          3.8558896221612406,
          4.378828653600922,
          2.314248457106817,
          3.1762501064798974,
          2.2497671783025535,
          1.987882805779652
         ],
         "y": [
          -0.5945527756282337,
          -0.06114678553874885,
          0.6612898164611923,
          -0.23026446076676818,
          -0.9389895644648079,
          -0.5193351742918717,
          -0.8573978572489849,
          -0.12424848762487681,
          -1.154458211235285,
          -0.22545683101883895,
          1.2751405994383018,
          0.0004948065056603762,
          0.08937018502802789,
          0.7635907964725279,
          -0.5288938761598444,
          -1.279095041930302,
          -0.2558215141567915,
          -2.9462226246426155,
          -0.9096774032859942,
          -0.7900646390947059,
          0.06839628764005605,
          -0.04918922554316868,
          -0.33689577935119003,
          2.3723804855056696,
          -0.19675223112191068,
          0.2862999131850695,
          -0.47586453875055557,
          0.21302266488346375
         ]
        },
        {
         "mode": "markers",
         "name": "cluster_1",
         "type": "scatter",
         "x": [
          1.95984215686672,
          2.97583323186629,
          1.7635110480861265,
          2.5590232184637816,
          5.724455962855714,
          0.7865775356770208
         ],
         "y": [
          3.7326791387796168,
          5.130339241960657,
          4.570045766263356,
          2.4619075677003934,
          8.70677438642745,
          3.309915783031064
         ]
        }
       ],
       "layout": {
        "autosize": true,
        "template": {
         "data": {
          "bar": [
           {
            "error_x": {
             "color": "#2a3f5f"
            },
            "error_y": {
             "color": "#2a3f5f"
            },
            "marker": {
             "line": {
              "color": "#E5ECF6",
              "width": 0.5
             },
             "pattern": {
              "fillmode": "overlay",
              "size": 10,
              "solidity": 0.2
             }
            },
            "type": "bar"
           }
          ],
          "barpolar": [
           {
            "marker": {
             "line": {
              "color": "#E5ECF6",
              "width": 0.5
             },
             "pattern": {
              "fillmode": "overlay",
              "size": 10,
              "solidity": 0.2
             }
            },
            "type": "barpolar"
           }
          ],
          "carpet": [
           {
            "aaxis": {
             "endlinecolor": "#2a3f5f",
             "gridcolor": "white",
             "linecolor": "white",
             "minorgridcolor": "white",
             "startlinecolor": "#2a3f5f"
            },
            "baxis": {
             "endlinecolor": "#2a3f5f",
             "gridcolor": "white",
             "linecolor": "white",
             "minorgridcolor": "white",
             "startlinecolor": "#2a3f5f"
            },
            "type": "carpet"
           }
          ],
          "choropleth": [
           {
            "colorbar": {
             "outlinewidth": 0,
             "ticks": ""
            },
            "type": "choropleth"
           }
          ],
          "contour": [
           {
            "colorbar": {
             "outlinewidth": 0,
             "ticks": ""
            },
            "colorscale": [
             [
              0,
              "#0d0887"
             ],
             [
              0.1111111111111111,
              "#46039f"
             ],
             [
              0.2222222222222222,
              "#7201a8"
             ],
             [
              0.3333333333333333,
              "#9c179e"
             ],
             [
              0.4444444444444444,
              "#bd3786"
             ],
             [
              0.5555555555555556,
              "#d8576b"
             ],
             [
              0.6666666666666666,
              "#ed7953"
             ],
             [
              0.7777777777777778,
              "#fb9f3a"
             ],
             [
              0.8888888888888888,
              "#fdca26"
             ],
             [
              1,
              "#f0f921"
             ]
            ],
            "type": "contour"
           }
          ],
          "contourcarpet": [
           {
            "colorbar": {
             "outlinewidth": 0,
             "ticks": ""
            },
            "type": "contourcarpet"
           }
          ],
          "heatmap": [
           {
            "colorbar": {
             "outlinewidth": 0,
             "ticks": ""
            },
            "colorscale": [
             [
              0,
              "#0d0887"
             ],
             [
              0.1111111111111111,
              "#46039f"
             ],
             [
              0.2222222222222222,
              "#7201a8"
             ],
             [
              0.3333333333333333,
              "#9c179e"
             ],
             [
              0.4444444444444444,
              "#bd3786"
             ],
             [
              0.5555555555555556,
              "#d8576b"
             ],
             [
              0.6666666666666666,
              "#ed7953"
             ],
             [
              0.7777777777777778,
              "#fb9f3a"
             ],
             [
              0.8888888888888888,
              "#fdca26"
             ],
             [
              1,
              "#f0f921"
             ]
            ],
            "type": "heatmap"
           }
          ],
          "heatmapgl": [
           {
            "colorbar": {
             "outlinewidth": 0,
             "ticks": ""
            },
            "colorscale": [
             [
              0,
              "#0d0887"
             ],
             [
              0.1111111111111111,
              "#46039f"
             ],
             [
              0.2222222222222222,
              "#7201a8"
             ],
             [
              0.3333333333333333,
              "#9c179e"
             ],
             [
              0.4444444444444444,
              "#bd3786"
             ],
             [
              0.5555555555555556,
              "#d8576b"
             ],
             [
              0.6666666666666666,
              "#ed7953"
             ],
             [
              0.7777777777777778,
              "#fb9f3a"
             ],
             [
              0.8888888888888888,
              "#fdca26"
             ],
             [
              1,
              "#f0f921"
             ]
            ],
            "type": "heatmapgl"
           }
          ],
          "histogram": [
           {
            "marker": {
             "pattern": {
              "fillmode": "overlay",
              "size": 10,
              "solidity": 0.2
             }
            },
            "type": "histogram"
           }
          ],
          "histogram2d": [
           {
            "colorbar": {
             "outlinewidth": 0,
             "ticks": ""
            },
            "colorscale": [
             [
              0,
              "#0d0887"
             ],
             [
              0.1111111111111111,
              "#46039f"
             ],
             [
              0.2222222222222222,
              "#7201a8"
             ],
             [
              0.3333333333333333,
              "#9c179e"
             ],
             [
              0.4444444444444444,
              "#bd3786"
             ],
             [
              0.5555555555555556,
              "#d8576b"
             ],
             [
              0.6666666666666666,
              "#ed7953"
             ],
             [
              0.7777777777777778,
              "#fb9f3a"
             ],
             [
              0.8888888888888888,
              "#fdca26"
             ],
             [
              1,
              "#f0f921"
             ]
            ],
            "type": "histogram2d"
           }
          ],
          "histogram2dcontour": [
           {
            "colorbar": {
             "outlinewidth": 0,
             "ticks": ""
            },
            "colorscale": [
             [
              0,
              "#0d0887"
             ],
             [
              0.1111111111111111,
              "#46039f"
             ],
             [
              0.2222222222222222,
              "#7201a8"
             ],
             [
              0.3333333333333333,
              "#9c179e"
             ],
             [
              0.4444444444444444,
              "#bd3786"
             ],
             [
              0.5555555555555556,
              "#d8576b"
             ],
             [
              0.6666666666666666,
              "#ed7953"
             ],
             [
              0.7777777777777778,
              "#fb9f3a"
             ],
             [
              0.8888888888888888,
              "#fdca26"
             ],
             [
              1,
              "#f0f921"
             ]
            ],
            "type": "histogram2dcontour"
           }
          ],
          "mesh3d": [
           {
            "colorbar": {
             "outlinewidth": 0,
             "ticks": ""
            },
            "type": "mesh3d"
           }
          ],
          "parcoords": [
           {
            "line": {
             "colorbar": {
              "outlinewidth": 0,
              "ticks": ""
             }
            },
            "type": "parcoords"
           }
          ],
          "pie": [
           {
            "automargin": true,
            "type": "pie"
           }
          ],
          "scatter": [
           {
            "marker": {
             "colorbar": {
              "outlinewidth": 0,
              "ticks": ""
             }
            },
            "type": "scatter"
           }
          ],
          "scatter3d": [
           {
            "line": {
             "colorbar": {
              "outlinewidth": 0,
              "ticks": ""
             }
            },
            "marker": {
             "colorbar": {
              "outlinewidth": 0,
              "ticks": ""
             }
            },
            "type": "scatter3d"
           }
          ],
          "scattercarpet": [
           {
            "marker": {
             "colorbar": {
              "outlinewidth": 0,
              "ticks": ""
             }
            },
            "type": "scattercarpet"
           }
          ],
          "scattergeo": [
           {
            "marker": {
             "colorbar": {
              "outlinewidth": 0,
              "ticks": ""
             }
            },
            "type": "scattergeo"
           }
          ],
          "scattergl": [
           {
            "marker": {
             "colorbar": {
              "outlinewidth": 0,
              "ticks": ""
             }
            },
            "type": "scattergl"
           }
          ],
          "scattermapbox": [
           {
            "marker": {
             "colorbar": {
              "outlinewidth": 0,
              "ticks": ""
             }
            },
            "type": "scattermapbox"
           }
          ],
          "scatterpolar": [
           {
            "marker": {
             "colorbar": {
              "outlinewidth": 0,
              "ticks": ""
             }
            },
            "type": "scatterpolar"
           }
          ],
          "scatterpolargl": [
           {
            "marker": {
             "colorbar": {
              "outlinewidth": 0,
              "ticks": ""
             }
            },
            "type": "scatterpolargl"
           }
          ],
          "scatterternary": [
           {
            "marker": {
             "colorbar": {
              "outlinewidth": 0,
              "ticks": ""
             }
            },
            "type": "scatterternary"
           }
          ],
          "surface": [
           {
            "colorbar": {
             "outlinewidth": 0,
             "ticks": ""
            },
            "colorscale": [
             [
              0,
              "#0d0887"
             ],
             [
              0.1111111111111111,
              "#46039f"
             ],
             [
              0.2222222222222222,
              "#7201a8"
             ],
             [
              0.3333333333333333,
              "#9c179e"
             ],
             [
              0.4444444444444444,
              "#bd3786"
             ],
             [
              0.5555555555555556,
              "#d8576b"
             ],
             [
              0.6666666666666666,
              "#ed7953"
             ],
             [
              0.7777777777777778,
              "#fb9f3a"
             ],
             [
              0.8888888888888888,
              "#fdca26"
             ],
             [
              1,
              "#f0f921"
             ]
            ],
            "type": "surface"
           }
          ],
          "table": [
           {
            "cells": {
             "fill": {
              "color": "#EBF0F8"
             },
             "line": {
              "color": "white"
             }
            },
            "header": {
             "fill": {
              "color": "#C8D4E3"
             },
             "line": {
              "color": "white"
             }
            },
            "type": "table"
           }
          ]
         },
         "layout": {
          "annotationdefaults": {
           "arrowcolor": "#2a3f5f",
           "arrowhead": 0,
           "arrowwidth": 1
          },
          "autotypenumbers": "strict",
          "coloraxis": {
           "colorbar": {
            "outlinewidth": 0,
            "ticks": ""
           }
          },
          "colorscale": {
           "diverging": [
            [
             0,
             "#8e0152"
            ],
            [
             0.1,
             "#c51b7d"
            ],
            [
             0.2,
             "#de77ae"
            ],
            [
             0.3,
             "#f1b6da"
            ],
            [
             0.4,
             "#fde0ef"
            ],
            [
             0.5,
             "#f7f7f7"
            ],
            [
             0.6,
             "#e6f5d0"
            ],
            [
             0.7,
             "#b8e186"
            ],
            [
             0.8,
             "#7fbc41"
            ],
            [
             0.9,
             "#4d9221"
            ],
            [
             1,
             "#276419"
            ]
           ],
           "sequential": [
            [
             0,
             "#0d0887"
            ],
            [
             0.1111111111111111,
             "#46039f"
            ],
            [
             0.2222222222222222,
             "#7201a8"
            ],
            [
             0.3333333333333333,
             "#9c179e"
            ],
            [
             0.4444444444444444,
             "#bd3786"
            ],
            [
             0.5555555555555556,
             "#d8576b"
            ],
            [
             0.6666666666666666,
             "#ed7953"
            ],
            [
             0.7777777777777778,
             "#fb9f3a"
            ],
            [
             0.8888888888888888,
             "#fdca26"
            ],
            [
             1,
             "#f0f921"
            ]
           ],
           "sequentialminus": [
            [
             0,
             "#0d0887"
            ],
            [
             0.1111111111111111,
             "#46039f"
            ],
            [
             0.2222222222222222,
             "#7201a8"
            ],
            [
             0.3333333333333333,
             "#9c179e"
            ],
            [
             0.4444444444444444,
             "#bd3786"
            ],
            [
             0.5555555555555556,
             "#d8576b"
            ],
            [
             0.6666666666666666,
             "#ed7953"
            ],
            [
             0.7777777777777778,
             "#fb9f3a"
            ],
            [
             0.8888888888888888,
             "#fdca26"
            ],
            [
             1,
             "#f0f921"
            ]
           ]
          },
          "colorway": [
           "#636efa",
           "#EF553B",
           "#00cc96",
           "#ab63fa",
           "#FFA15A",
           "#19d3f3",
           "#FF6692",
           "#B6E880",
           "#FF97FF",
           "#FECB52"
          ],
          "font": {
           "color": "#2a3f5f"
          },
          "geo": {
           "bgcolor": "white",
           "lakecolor": "white",
           "landcolor": "#E5ECF6",
           "showlakes": true,
           "showland": true,
           "subunitcolor": "white"
          },
          "hoverlabel": {
           "align": "left"
          },
          "hovermode": "closest",
          "mapbox": {
           "style": "light"
          },
          "paper_bgcolor": "white",
          "plot_bgcolor": "#E5ECF6",
          "polar": {
           "angularaxis": {
            "gridcolor": "white",
            "linecolor": "white",
            "ticks": ""
           },
           "bgcolor": "#E5ECF6",
           "radialaxis": {
            "gridcolor": "white",
            "linecolor": "white",
            "ticks": ""
           }
          },
          "scene": {
           "xaxis": {
            "backgroundcolor": "#E5ECF6",
            "gridcolor": "white",
            "gridwidth": 2,
            "linecolor": "white",
            "showbackground": true,
            "ticks": "",
            "zerolinecolor": "white"
           },
           "yaxis": {
            "backgroundcolor": "#E5ECF6",
            "gridcolor": "white",
            "gridwidth": 2,
            "linecolor": "white",
            "showbackground": true,
            "ticks": "",
            "zerolinecolor": "white"
           },
           "zaxis": {
            "backgroundcolor": "#E5ECF6",
            "gridcolor": "white",
            "gridwidth": 2,
            "linecolor": "white",
            "showbackground": true,
            "ticks": "",
            "zerolinecolor": "white"
           }
          },
          "shapedefaults": {
           "line": {
            "color": "#2a3f5f"
           }
          },
          "ternary": {
           "aaxis": {
            "gridcolor": "white",
            "linecolor": "white",
            "ticks": ""
           },
           "baxis": {
            "gridcolor": "white",
            "linecolor": "white",
            "ticks": ""
           },
           "bgcolor": "#E5ECF6",
           "caxis": {
            "gridcolor": "white",
            "linecolor": "white",
            "ticks": ""
           }
          },
          "title": {
           "x": 0.05
          },
          "xaxis": {
           "automargin": true,
           "gridcolor": "white",
           "linecolor": "white",
           "ticks": "",
           "title": {
            "standoff": 15
           },
           "zerolinecolor": "white",
           "zerolinewidth": 2
          },
          "yaxis": {
           "automargin": true,
           "gridcolor": "white",
           "linecolor": "white",
           "ticks": "",
           "title": {
            "standoff": 15
           },
           "zerolinecolor": "white",
           "zerolinewidth": 2
          }
         }
        },
        "title": {
         "text": "PCA"
        },
        "xaxis": {
         "autorange": true,
         "range": [
          -2.173478785046381,
          8.03079850706884
         ],
         "title": {
          "text": "PC1"
         },
         "type": "linear"
        },
        "yaxis": {
         "autorange": true,
         "range": [
          -3.799786099975773,
          9.560337861760607
         ],
         "title": {
          "text": "PC2"
         },
         "type": "linear"
        }
       }
      },
      "text/html": [
       "<div>                            <div id=\"966f34b6-93aa-4555-992b-9a274d03cbfd\" class=\"plotly-graph-div\" style=\"height:525px; width:100%;\"></div>            <script type=\"text/javascript\">                require([\"plotly\"], function(Plotly) {                    window.PLOTLYENV=window.PLOTLYENV || {};                                    if (document.getElementById(\"966f34b6-93aa-4555-992b-9a274d03cbfd\")) {                    Plotly.newPlot(                        \"966f34b6-93aa-4555-992b-9a274d03cbfd\",                        [{\"mode\":\"markers\",\"name\":\"cluster_0\",\"type\":\"scatter\",\"x\":[-0.47780445342837774,-0.5938416183181243,-0.43752381600883705,-1.0075739112518145,-1.0068976252977515,-1.2673006607702848,-0.6080768898974253,-0.24390911143738084,-0.46264193239310525,-0.8824110470091572,-0.7068158671865339,-0.9403373741578024,-0.9251702508783405,-0.9059203338560379,-1.1772553594716983,-0.4794386644460993,-0.4191166899183026,-0.452190073541851,-1.2292927482993115,-1.1988129483075498,-0.9575461502896078,-1.0793748294717598,-1.0065423831320266,-0.6354060017608736,-0.8833152598989954,-1.4295001104624951,-0.8628661243627364,-0.5645427612579319,-0.9111902348879849,-0.15250716775397719,-1.1632849551400535,-0.5503048147028676,-0.8572659301200435,-0.546761913606382,-1.0670850395117726,-0.8725816426973504,-0.5586351393707258,-0.8344276999345871,-0.520745175573314,-1.1165842801546841,-1.3343179125386684,-1.1337395113915476,-1.2590183373813533,-1.122891029735188,-1.5022788653760437,-0.9066397009773854,-0.5608204529741609,-0.728950343475497,-0.656226251185319,-1.1126196356297375,-0.8052557197783534,-0.8687679461237136,-1.3068095374927458,-1.3721876582012327,-1.424487043253758,-0.9089164909896306,-0.5965081403596736,-1.0548111417749195,-0.8763417666361278,-1.3469781376034449,-0.7744204947140279,-0.9713903658481865,-0.843870252874645,-1.3025358402157265,-0.5630078039496693,-1.2837163331361354,-0.4786274239176806,-0.29860237365500175,-1.2063801488116002,-0.4185695939430239,-0.7630089526946573,-1.2944054580321127,-1.2991062157180409,-0.5853739317264458,-1.152322693635741,-0.8544419194976541,-1.565348436207537,-1.0623198988707152,-0.49556516264019806,-1.1580054208147563,-1.3631755470248874,-1.6197313142455894,-0.8014797757809408,-1.1664272679975947,-0.8693936473424515,-0.7163828793717107,-0.8569158864931206,-0.8437879128234432,-0.9094040294427348,-1.059203880224923,-1.4807743259892348,-1.32453002850984,-0.8867569821139156,-0.7774505863507705,-1.5951546548028472,-0.9065460141859029,-0.41907936693051184,-0.6714263723741051,-0.987348636402141,-1.070551695353632,-1.1238514308095855,-0.47291892880087416,-0.4075790741688004,-0.9465278612884652,-1.2533289952256366,-0.9741210814248943,-1.352233727928498,-1.100150211986692,-1.3933556092860027,-0.9903965672653123,-1.4336476620010477,-0.996921452503191,-0.30486334341698235,-1.2528428720699096,-0.6628240152399698,-0.7392516556029973,-1.0717602671610678,-1.0903845810602426,-1.329524710425798,-0.7811494391420678,-0.9531479174665425,-0.41075997762742256,-0.6396987635791843,-1.40126347894868,-1.0297591840768987,-0.8695453411038447,-1.198862464785701,0.06172221133048984,-1.0448884079493348,-1.1099085379492328,-1.2815540082566361,-1.3015071538826002,-0.5539101630933874,-1.1216757882426667,-0.5096121737699958,-0.6706216886938428,-1.3781230793566595,-0.6933561687387463,-1.0945862299911182,-1.5283833013942034,-0.9341600207491391,-0.5519857372870192,-0.7208520935425802,-0.34509174285135635,-0.8952938001135115,-0.8946420338217823,-0.8857255084060986,-0.9439658421909407,-0.7271122746052816,-0.6823784266829598,-0.9998261854457372,-0.9228773787692773,-0.8401055520412215,-1.2888789018711102,-0.03612408443387837,-1.5303614880169851,-0.9878663179056543,-0.7032322551457538,-0.9563324609782239,-0.07880567505380928,-1.1210805426995176,-0.6376468925334446,-0.7309507191557378,-1.043853374749203,-0.6803893001371163,-1.4135314298334183,-0.9342384461458554,-0.888305648341954,-1.0570685638211366,-1.158401891717519,-0.3778650952817574,-1.0670329935962024,-1.4057556442929726,-1.0176143985575117,-0.09051067153534333,-0.07246145704648506,-1.1075918739617812],\"y\":[-0.6395547207174767,0.6504836261397169,0.48277316752929,0.5054542047772321,-0.2645479661606929,-0.44098833139958066,0.5526533172875931,-0.15271603865694902,0.47698416379605035,-0.32788345315163087,0.7317783631830406,-0.19229029655334048,0.17174814926246648,-0.24619398089167632,-0.35596056574956125,0.98916058583352,0.7149609658903419,-0.05305720686489338,0.04969553269198661,0.19689920230229058,-0.12184314791416523,-0.23478630063712616,-0.3045054577488841,0.34196900244385564,0.3195382843827387,0.2031483283630952,0.6075415112895347,-0.1507458528902179,-0.4321092731398383,0.3685051536897306,0.5390459178966523,0.9664579084433845,0.49262935662063356,-0.006928117902417988,0.2434072310804559,-0.2958483519538602,-0.2695721426337276,0.02187112495037334,-0.0712504992983739,-0.33177043706987175,-0.2966708855760363,0.3053467803469091,-0.3850670359093464,-0.04242785916130914,-0.061342945370646766,0.006311579344107375,-0.37772094887819013,-0.02814071494305331,-0.17240443036415815,0.20621879572804613,0.15862789946940611,-0.082768318805259,-0.0796698079839773,0.2571366176307383,0.13539117768155312,-0.282210403380962,0.6489641420616338,-0.4766233704571909,1.2711084381015314,-0.4229289458857652,-0.3361455091085414,0.5269533655025074,-0.12589546662394266,-0.10218822903995642,-0.49606981994561683,-0.4364814468349886,0.20940786026815816,-0.19523888092335995,-0.06851354868069635,0.03192794696593872,0.11435747125741243,-0.17954669211961471,-0.09083769289505776,-0.11720359896014604,0.4640149637168337,-0.21597044269987883,-0.07154145527003584,-0.370495766845339,0.6209030599885602,0.24815834091999223,-0.3808833010013464,0.09195334306510076,-0.08860030602749844,0.7633889640211556,0.36141940604130035,0.22439782215908244,-0.31705225029326917,0.015406317529638761,-0.10030229176633362,-0.2839507110742733,-0.16721860287732482,0.20301931470438128,-0.3744503138697739,0.21192216468271333,0.08873756269359423,0.2970399194454103,0.215638696494851,-0.30406893411957125,0.11562458534670443,0.15784791423300604,0.019147723901119393,-0.0586121371444946,-0.2229119335211644,0.21080998694514325,0.10758190977990756,0.06459187220215629,0.3040762699428927,0.6238056390889086,0.06118301282759156,-0.024805440971054384,0.2132396074972794,0.10425212488702364,0.8048999433713847,0.1541624432913464,-0.3017855121332088,-0.31232321880895886,-0.22377135065298276,0.06781319378190663,-0.1710771097172784,0.5385649505916071,0.43704573865610963,0.8789661326023418,0.058083359894318766,0.20995385136303596,-0.04272104129346661,0.7985135083838788,-0.403200357073716,2.2829080245232944,-0.3763212928764465,0.050022039910902434,0.10568671127766714,0.20554257758127106,0.9842888895104092,-0.014688560631861901,-0.14243883239594635,0.5207218271628159,-0.4456002566340302,-0.6356954277527145,-0.11156011409776923,0.21919674198979644,-0.6185735976070424,0.6989535707966524,0.21296804019233603,0.4307014463007048,0.2959105358800379,-0.2967779167293566,0.5005944172503768,-0.23220966679336957,-0.24860743089889234,1.3810490525416943,-0.3874944462318743,0.4818945632571115,-0.0036640540770084894,-0.0015076352424592857,1.1286027765131763,0.21503416640118364,0.5528534309725508,0.3697051688875891,0.30865528635551437,-0.29241301826340516,-0.47018420017713786,-0.2502233888657589,-0.643076000177136,-0.1544775021277036,0.48337324612544574,-0.06430127004435394,-0.23379563464682715,-0.3947201831739148,0.18003907462100752,-0.0973040128125578,0.6482248494541842,-0.4567369203315122,0.15819289052116273,-0.36039436888541,0.21548557498357046,0.5394545449382203,-0.35053887275969675]},{\"mode\":\"markers\",\"name\":\"cluster_2\",\"type\":\"scatter\",\"x\":[0.5304881240517054,2.126090120810842,2.921560156605303,0.8703023144015541,1.751174343506591,3.848264590797031,0.9107789254602358,1.0079832909799167,2.211381389810649,1.8694101035638784,1.3802007267049916,1.1557490592689568,2.117338251813714,1.4108311526163833,1.633240692728247,0.9006146139331906,1.1016305204914674,1.1457587892041543,1.6326425313773578,1.0512818141733098,1.2326270370870644,1.8609830603578,1.3041845510991432,0.7689146947342899,1.3259859546044377,1.2803485872262879,0.5269779835251094,1.343459597448253,1.3048777623444234,1.837395721385765,1.8764935835614505,1.0870694512604009,2.0618986842739693,1.34602837071058,5.095358496895664,1.7008764936246232,1.498764980555985,2.2712929461403397,0.9266520149066941,1.0459419200978355,1.167439132811237],\"y\":[-1.8830197455453628,-0.9303605781271238,-1.0741616226731823,-1.4738903724571357,-0.42523294521257216,-0.6711297682846562,-1.3998888682041934,-0.30896402564684355,-2.23547977745271,-0.09131160211783024,-0.9060087014394956,-1.5836466561953584,-0.6396205116046727,-0.026047177929362415,-0.3885328897183947,-1.6457720693920466,-0.8821407397641172,-0.7449881443456107,-0.5372075122211012,-1.150714935646068,-1.6340371731113188,0.18522208344146207,-0.46651650490282953,-0.9233938198531821,-0.5996360249099425,-1.6620541584271518,-1.7845724707235677,-0.01029901563190554,-0.6508298985318473,-0.7327508810788554,0.041611525813901616,-0.24675998822554135,-1.081474954472801,-1.0015704459836703,-1.828144770319604,-0.8984668206169699,-1.0918176102996022,0.3498674180431507,-1.6419633665268873,-0.6262919116398828,-0.802307475125726]},{\"mode\":\"markers\",\"name\":\"cluster_3\",\"type\":\"scatter\",\"x\":[2.0034692925665927,4.431693387173429,3.0224472714393116,1.7652571373487775,3.774205332125142,2.289286802695467,1.7561071764213627,2.7057819763932955,2.901188127554833,1.7580230558032492,2.7043395138447255,3.5384102375105337,1.8210803571877963,2.3700845384231215,2.5484676747135064,2.6004180977760347,3.28409213853831,7.477051036268047,2.65409459949388,3.1169933108536205,2.012778563571893,1.9972238233113349,3.8558896221612406,4.378828653600922,2.314248457106817,3.1762501064798974,2.2497671783025535,1.987882805779652],\"y\":[-0.5945527756282337,-0.06114678553874885,0.6612898164611923,-0.23026446076676818,-0.9389895644648079,-0.5193351742918717,-0.8573978572489849,-0.12424848762487681,-1.154458211235285,-0.22545683101883895,1.2751405994383018,0.0004948065056603762,0.08937018502802789,0.7635907964725279,-0.5288938761598444,-1.279095041930302,-0.2558215141567915,-2.9462226246426155,-0.9096774032859942,-0.7900646390947059,0.06839628764005605,-0.04918922554316868,-0.33689577935119003,2.3723804855056696,-0.19675223112191068,0.2862999131850695,-0.47586453875055557,0.21302266488346375]},{\"mode\":\"markers\",\"name\":\"cluster_1\",\"type\":\"scatter\",\"x\":[1.95984215686672,2.97583323186629,1.7635110480861265,2.5590232184637816,5.724455962855714,0.7865775356770208],\"y\":[3.7326791387796168,5.130339241960657,4.570045766263356,2.4619075677003934,8.70677438642745,3.309915783031064]}],                        {\"template\":{\"data\":{\"bar\":[{\"error_x\":{\"color\":\"#2a3f5f\"},\"error_y\":{\"color\":\"#2a3f5f\"},\"marker\":{\"line\":{\"color\":\"#E5ECF6\",\"width\":0.5},\"pattern\":{\"fillmode\":\"overlay\",\"size\":10,\"solidity\":0.2}},\"type\":\"bar\"}],\"barpolar\":[{\"marker\":{\"line\":{\"color\":\"#E5ECF6\",\"width\":0.5},\"pattern\":{\"fillmode\":\"overlay\",\"size\":10,\"solidity\":0.2}},\"type\":\"barpolar\"}],\"carpet\":[{\"aaxis\":{\"endlinecolor\":\"#2a3f5f\",\"gridcolor\":\"white\",\"linecolor\":\"white\",\"minorgridcolor\":\"white\",\"startlinecolor\":\"#2a3f5f\"},\"baxis\":{\"endlinecolor\":\"#2a3f5f\",\"gridcolor\":\"white\",\"linecolor\":\"white\",\"minorgridcolor\":\"white\",\"startlinecolor\":\"#2a3f5f\"},\"type\":\"carpet\"}],\"choropleth\":[{\"colorbar\":{\"outlinewidth\":0,\"ticks\":\"\"},\"type\":\"choropleth\"}],\"contour\":[{\"colorbar\":{\"outlinewidth\":0,\"ticks\":\"\"},\"colorscale\":[[0.0,\"#0d0887\"],[0.1111111111111111,\"#46039f\"],[0.2222222222222222,\"#7201a8\"],[0.3333333333333333,\"#9c179e\"],[0.4444444444444444,\"#bd3786\"],[0.5555555555555556,\"#d8576b\"],[0.6666666666666666,\"#ed7953\"],[0.7777777777777778,\"#fb9f3a\"],[0.8888888888888888,\"#fdca26\"],[1.0,\"#f0f921\"]],\"type\":\"contour\"}],\"contourcarpet\":[{\"colorbar\":{\"outlinewidth\":0,\"ticks\":\"\"},\"type\":\"contourcarpet\"}],\"heatmap\":[{\"colorbar\":{\"outlinewidth\":0,\"ticks\":\"\"},\"colorscale\":[[0.0,\"#0d0887\"],[0.1111111111111111,\"#46039f\"],[0.2222222222222222,\"#7201a8\"],[0.3333333333333333,\"#9c179e\"],[0.4444444444444444,\"#bd3786\"],[0.5555555555555556,\"#d8576b\"],[0.6666666666666666,\"#ed7953\"],[0.7777777777777778,\"#fb9f3a\"],[0.8888888888888888,\"#fdca26\"],[1.0,\"#f0f921\"]],\"type\":\"heatmap\"}],\"heatmapgl\":[{\"colorbar\":{\"outlinewidth\":0,\"ticks\":\"\"},\"colorscale\":[[0.0,\"#0d0887\"],[0.1111111111111111,\"#46039f\"],[0.2222222222222222,\"#7201a8\"],[0.3333333333333333,\"#9c179e\"],[0.4444444444444444,\"#bd3786\"],[0.5555555555555556,\"#d8576b\"],[0.6666666666666666,\"#ed7953\"],[0.7777777777777778,\"#fb9f3a\"],[0.8888888888888888,\"#fdca26\"],[1.0,\"#f0f921\"]],\"type\":\"heatmapgl\"}],\"histogram\":[{\"marker\":{\"pattern\":{\"fillmode\":\"overlay\",\"size\":10,\"solidity\":0.2}},\"type\":\"histogram\"}],\"histogram2d\":[{\"colorbar\":{\"outlinewidth\":0,\"ticks\":\"\"},\"colorscale\":[[0.0,\"#0d0887\"],[0.1111111111111111,\"#46039f\"],[0.2222222222222222,\"#7201a8\"],[0.3333333333333333,\"#9c179e\"],[0.4444444444444444,\"#bd3786\"],[0.5555555555555556,\"#d8576b\"],[0.6666666666666666,\"#ed7953\"],[0.7777777777777778,\"#fb9f3a\"],[0.8888888888888888,\"#fdca26\"],[1.0,\"#f0f921\"]],\"type\":\"histogram2d\"}],\"histogram2dcontour\":[{\"colorbar\":{\"outlinewidth\":0,\"ticks\":\"\"},\"colorscale\":[[0.0,\"#0d0887\"],[0.1111111111111111,\"#46039f\"],[0.2222222222222222,\"#7201a8\"],[0.3333333333333333,\"#9c179e\"],[0.4444444444444444,\"#bd3786\"],[0.5555555555555556,\"#d8576b\"],[0.6666666666666666,\"#ed7953\"],[0.7777777777777778,\"#fb9f3a\"],[0.8888888888888888,\"#fdca26\"],[1.0,\"#f0f921\"]],\"type\":\"histogram2dcontour\"}],\"mesh3d\":[{\"colorbar\":{\"outlinewidth\":0,\"ticks\":\"\"},\"type\":\"mesh3d\"}],\"parcoords\":[{\"line\":{\"colorbar\":{\"outlinewidth\":0,\"ticks\":\"\"}},\"type\":\"parcoords\"}],\"pie\":[{\"automargin\":true,\"type\":\"pie\"}],\"scatter\":[{\"marker\":{\"colorbar\":{\"outlinewidth\":0,\"ticks\":\"\"}},\"type\":\"scatter\"}],\"scatter3d\":[{\"line\":{\"colorbar\":{\"outlinewidth\":0,\"ticks\":\"\"}},\"marker\":{\"colorbar\":{\"outlinewidth\":0,\"ticks\":\"\"}},\"type\":\"scatter3d\"}],\"scattercarpet\":[{\"marker\":{\"colorbar\":{\"outlinewidth\":0,\"ticks\":\"\"}},\"type\":\"scattercarpet\"}],\"scattergeo\":[{\"marker\":{\"colorbar\":{\"outlinewidth\":0,\"ticks\":\"\"}},\"type\":\"scattergeo\"}],\"scattergl\":[{\"marker\":{\"colorbar\":{\"outlinewidth\":0,\"ticks\":\"\"}},\"type\":\"scattergl\"}],\"scattermapbox\":[{\"marker\":{\"colorbar\":{\"outlinewidth\":0,\"ticks\":\"\"}},\"type\":\"scattermapbox\"}],\"scatterpolar\":[{\"marker\":{\"colorbar\":{\"outlinewidth\":0,\"ticks\":\"\"}},\"type\":\"scatterpolar\"}],\"scatterpolargl\":[{\"marker\":{\"colorbar\":{\"outlinewidth\":0,\"ticks\":\"\"}},\"type\":\"scatterpolargl\"}],\"scatterternary\":[{\"marker\":{\"colorbar\":{\"outlinewidth\":0,\"ticks\":\"\"}},\"type\":\"scatterternary\"}],\"surface\":[{\"colorbar\":{\"outlinewidth\":0,\"ticks\":\"\"},\"colorscale\":[[0.0,\"#0d0887\"],[0.1111111111111111,\"#46039f\"],[0.2222222222222222,\"#7201a8\"],[0.3333333333333333,\"#9c179e\"],[0.4444444444444444,\"#bd3786\"],[0.5555555555555556,\"#d8576b\"],[0.6666666666666666,\"#ed7953\"],[0.7777777777777778,\"#fb9f3a\"],[0.8888888888888888,\"#fdca26\"],[1.0,\"#f0f921\"]],\"type\":\"surface\"}],\"table\":[{\"cells\":{\"fill\":{\"color\":\"#EBF0F8\"},\"line\":{\"color\":\"white\"}},\"header\":{\"fill\":{\"color\":\"#C8D4E3\"},\"line\":{\"color\":\"white\"}},\"type\":\"table\"}]},\"layout\":{\"annotationdefaults\":{\"arrowcolor\":\"#2a3f5f\",\"arrowhead\":0,\"arrowwidth\":1},\"autotypenumbers\":\"strict\",\"coloraxis\":{\"colorbar\":{\"outlinewidth\":0,\"ticks\":\"\"}},\"colorscale\":{\"diverging\":[[0,\"#8e0152\"],[0.1,\"#c51b7d\"],[0.2,\"#de77ae\"],[0.3,\"#f1b6da\"],[0.4,\"#fde0ef\"],[0.5,\"#f7f7f7\"],[0.6,\"#e6f5d0\"],[0.7,\"#b8e186\"],[0.8,\"#7fbc41\"],[0.9,\"#4d9221\"],[1,\"#276419\"]],\"sequential\":[[0.0,\"#0d0887\"],[0.1111111111111111,\"#46039f\"],[0.2222222222222222,\"#7201a8\"],[0.3333333333333333,\"#9c179e\"],[0.4444444444444444,\"#bd3786\"],[0.5555555555555556,\"#d8576b\"],[0.6666666666666666,\"#ed7953\"],[0.7777777777777778,\"#fb9f3a\"],[0.8888888888888888,\"#fdca26\"],[1.0,\"#f0f921\"]],\"sequentialminus\":[[0.0,\"#0d0887\"],[0.1111111111111111,\"#46039f\"],[0.2222222222222222,\"#7201a8\"],[0.3333333333333333,\"#9c179e\"],[0.4444444444444444,\"#bd3786\"],[0.5555555555555556,\"#d8576b\"],[0.6666666666666666,\"#ed7953\"],[0.7777777777777778,\"#fb9f3a\"],[0.8888888888888888,\"#fdca26\"],[1.0,\"#f0f921\"]]},\"colorway\":[\"#636efa\",\"#EF553B\",\"#00cc96\",\"#ab63fa\",\"#FFA15A\",\"#19d3f3\",\"#FF6692\",\"#B6E880\",\"#FF97FF\",\"#FECB52\"],\"font\":{\"color\":\"#2a3f5f\"},\"geo\":{\"bgcolor\":\"white\",\"lakecolor\":\"white\",\"landcolor\":\"#E5ECF6\",\"showlakes\":true,\"showland\":true,\"subunitcolor\":\"white\"},\"hoverlabel\":{\"align\":\"left\"},\"hovermode\":\"closest\",\"mapbox\":{\"style\":\"light\"},\"paper_bgcolor\":\"white\",\"plot_bgcolor\":\"#E5ECF6\",\"polar\":{\"angularaxis\":{\"gridcolor\":\"white\",\"linecolor\":\"white\",\"ticks\":\"\"},\"bgcolor\":\"#E5ECF6\",\"radialaxis\":{\"gridcolor\":\"white\",\"linecolor\":\"white\",\"ticks\":\"\"}},\"scene\":{\"xaxis\":{\"backgroundcolor\":\"#E5ECF6\",\"gridcolor\":\"white\",\"gridwidth\":2,\"linecolor\":\"white\",\"showbackground\":true,\"ticks\":\"\",\"zerolinecolor\":\"white\"},\"yaxis\":{\"backgroundcolor\":\"#E5ECF6\",\"gridcolor\":\"white\",\"gridwidth\":2,\"linecolor\":\"white\",\"showbackground\":true,\"ticks\":\"\",\"zerolinecolor\":\"white\"},\"zaxis\":{\"backgroundcolor\":\"#E5ECF6\",\"gridcolor\":\"white\",\"gridwidth\":2,\"linecolor\":\"white\",\"showbackground\":true,\"ticks\":\"\",\"zerolinecolor\":\"white\"}},\"shapedefaults\":{\"line\":{\"color\":\"#2a3f5f\"}},\"ternary\":{\"aaxis\":{\"gridcolor\":\"white\",\"linecolor\":\"white\",\"ticks\":\"\"},\"baxis\":{\"gridcolor\":\"white\",\"linecolor\":\"white\",\"ticks\":\"\"},\"bgcolor\":\"#E5ECF6\",\"caxis\":{\"gridcolor\":\"white\",\"linecolor\":\"white\",\"ticks\":\"\"}},\"title\":{\"x\":0.05},\"xaxis\":{\"automargin\":true,\"gridcolor\":\"white\",\"linecolor\":\"white\",\"ticks\":\"\",\"title\":{\"standoff\":15},\"zerolinecolor\":\"white\",\"zerolinewidth\":2},\"yaxis\":{\"automargin\":true,\"gridcolor\":\"white\",\"linecolor\":\"white\",\"ticks\":\"\",\"title\":{\"standoff\":15},\"zerolinecolor\":\"white\",\"zerolinewidth\":2}}},\"title\":{\"text\":\"PCA\"},\"xaxis\":{\"title\":{\"text\":\"PC1\"}},\"yaxis\":{\"title\":{\"text\":\"PC2\"}}},                        {\"responsive\": true}                    ).then(function(){\n",
       "                            \n",
       "var gd = document.getElementById('966f34b6-93aa-4555-992b-9a274d03cbfd');\n",
       "var x = new MutationObserver(function (mutations, observer) {{\n",
       "        var display = window.getComputedStyle(gd).display;\n",
       "        if (!display || display === 'none') {{\n",
       "            console.log([gd, 'removed!']);\n",
       "            Plotly.purge(gd);\n",
       "            observer.disconnect();\n",
       "        }}\n",
       "}});\n",
       "\n",
       "// Listen for the removal of the full notebook cells\n",
       "var notebookContainer = gd.closest('#notebook-container');\n",
       "if (notebookContainer) {{\n",
       "    x.observe(notebookContainer, {childList: true});\n",
       "}}\n",
       "\n",
       "// Listen for the clearing of the current output cell\n",
       "var outputEl = gd.closest('.output');\n",
       "if (outputEl) {{\n",
       "    x.observe(outputEl, {childList: true});\n",
       "}}\n",
       "\n",
       "                        })                };                });            </script>        </div>"
      ]
     },
     "metadata": {},
     "output_type": "display_data"
    }
   ],
   "source": [
    "plot_PCA(df_pca)"
   ]
  },
  {
   "cell_type": "markdown",
   "metadata": {},
   "source": [
    "# Kmeans"
   ]
  },
  {
   "cell_type": "code",
   "execution_count": 188,
   "metadata": {},
   "outputs": [],
   "source": [
    "km = KMeans(n_clusters=4,\n",
    "            n_init=10, \n",
    "            random_state=0)"
   ]
  },
  {
   "cell_type": "code",
   "execution_count": 189,
   "metadata": {},
   "outputs": [],
   "source": [
    "y_km = km.fit_predict(df_pca)"
   ]
  },
  {
   "cell_type": "code",
   "execution_count": 196,
   "metadata": {},
   "outputs": [],
   "source": [
    "def plot_clusters(X,y_res, plt_cluster_centers = False):\n",
    "    X_centroids = []\n",
    "    Y_centroids = []\n",
    "\n",
    "    for cluster in set(y_res):\n",
    "        x = X[y_res == cluster,0]\n",
    "        y = X[y_res == cluster,1]\n",
    "        X_centroids.append(np.mean(x))\n",
    "        Y_centroids.append(np.mean(y))\n",
    "\n",
    "        plt.scatter(x,\n",
    "                    y,\n",
    "                    s=50,\n",
    "                    marker='s',\n",
    "                    label=f'cluster {cluster}')\n",
    "\n",
    "    if plt_cluster_centers:\n",
    "        plt.scatter(X_centroids,\n",
    "                    Y_centroids,\n",
    "                    marker='*',\n",
    "                    c='yellow',\n",
    "                    s=250,\n",
    "                    label='centroids')\n",
    "    plt.legend()\n",
    "    plt.grid()\n",
    "    plt.show()"
   ]
  },
  {
   "cell_type": "code",
   "execution_count": 197,
   "metadata": {},
   "outputs": [
    {
     "data": {
      "image/png": "[encoded data removed]",
      "text/plain": [
       "<Figure size 432x288 with 1 Axes>"
      ]
     },
     "metadata": {
      "needs_background": "light"
     },
     "output_type": "display_data"
    }
   ],
   "source": [
    "plot_clusters(PCA_transform, y_km+1, plt_cluster_centers= True)"
   ]
  },
  {
   "cell_type": "code",
   "execution_count": 192,
   "metadata": {},
   "outputs": [
    {
     "data": {
      "text/html": [
       "<div>\n",
       "<style scoped>\n",
       "    .dataframe tbody tr th:only-of-type {\n",
       "        vertical-align: middle;\n",
       "    }\n",
       "\n",
       "    .dataframe tbody tr th {\n",
       "        vertical-align: top;\n",
       "    }\n",
       "\n",
       "    .dataframe thead th {\n",
       "        text-align: right;\n",
       "    }\n",
       "</style>\n",
       "<table border=\"1\" class=\"dataframe\">\n",
       "  <thead>\n",
       "    <tr style=\"text-align: right;\">\n",
       "      <th></th>\n",
       "      <th>income</th>\n",
       "      <th>Savings Balance</th>\n",
       "      <th>Chequing Balance</th>\n",
       "      <th>Owing Balance</th>\n",
       "      <th>cluster</th>\n",
       "    </tr>\n",
       "  </thead>\n",
       "  <tbody>\n",
       "    <tr>\n",
       "      <th>0</th>\n",
       "      <td>0.317931</td>\n",
       "      <td>0.005612</td>\n",
       "      <td>1.367966</td>\n",
       "      <td>1.410684</td>\n",
       "      <td>1</td>\n",
       "    </tr>\n",
       "    <tr>\n",
       "      <th>1</th>\n",
       "      <td>2.294495</td>\n",
       "      <td>0.265302</td>\n",
       "      <td>0.003671</td>\n",
       "      <td>0.000000</td>\n",
       "      <td>1</td>\n",
       "    </tr>\n",
       "    <tr>\n",
       "      <th>2</th>\n",
       "      <td>2.144603</td>\n",
       "      <td>0.110600</td>\n",
       "      <td>0.556135</td>\n",
       "      <td>0.062578</td>\n",
       "      <td>1</td>\n",
       "    </tr>\n",
       "    <tr>\n",
       "      <th>3</th>\n",
       "      <td>0.000000</td>\n",
       "      <td>1.263246</td>\n",
       "      <td>0.143659</td>\n",
       "      <td>0.911160</td>\n",
       "      <td>1</td>\n",
       "    </tr>\n",
       "    <tr>\n",
       "      <th>4</th>\n",
       "      <td>0.092852</td>\n",
       "      <td>0.021504</td>\n",
       "      <td>0.015015</td>\n",
       "      <td>2.733479</td>\n",
       "      <td>4</td>\n",
       "    </tr>\n",
       "    <tr>\n",
       "      <th>...</th>\n",
       "      <td>...</td>\n",
       "      <td>...</td>\n",
       "      <td>...</td>\n",
       "      <td>...</td>\n",
       "      <td>...</td>\n",
       "    </tr>\n",
       "    <tr>\n",
       "      <th>95</th>\n",
       "      <td>1.307103</td>\n",
       "      <td>0.690356</td>\n",
       "      <td>5.517320</td>\n",
       "      <td>0.453812</td>\n",
       "      <td>2</td>\n",
       "    </tr>\n",
       "    <tr>\n",
       "      <th>96</th>\n",
       "      <td>0.736512</td>\n",
       "      <td>0.024853</td>\n",
       "      <td>0.093527</td>\n",
       "      <td>0.391197</td>\n",
       "      <td>1</td>\n",
       "    </tr>\n",
       "    <tr>\n",
       "      <th>97</th>\n",
       "      <td>1.269029</td>\n",
       "      <td>0.060956</td>\n",
       "      <td>1.156652</td>\n",
       "      <td>0.550933</td>\n",
       "      <td>1</td>\n",
       "    </tr>\n",
       "    <tr>\n",
       "      <th>98</th>\n",
       "      <td>2.899743</td>\n",
       "      <td>0.258122</td>\n",
       "      <td>0.574040</td>\n",
       "      <td>0.645283</td>\n",
       "      <td>4</td>\n",
       "    </tr>\n",
       "    <tr>\n",
       "      <th>99</th>\n",
       "      <td>1.745324</td>\n",
       "      <td>0.709161</td>\n",
       "      <td>1.215394</td>\n",
       "      <td>1.640087</td>\n",
       "      <td>4</td>\n",
       "    </tr>\n",
       "  </tbody>\n",
       "</table>\n",
       "<p>100 rows × 5 columns</p>\n",
       "</div>"
      ],
      "text/plain": [
       "      income  Savings Balance  Chequing Balance  Owing Balance  cluster\n",
       "0   0.317931         0.005612          1.367966       1.410684        1\n",
       "1   2.294495         0.265302          0.003671       0.000000        1\n",
       "2   2.144603         0.110600          0.556135       0.062578        1\n",
       "3   0.000000         1.263246          0.143659       0.911160        1\n",
       "4   0.092852         0.021504          0.015015       2.733479        4\n",
       "..       ...              ...               ...            ...      ...\n",
       "95  1.307103         0.690356          5.517320       0.453812        2\n",
       "96  0.736512         0.024853          0.093527       0.391197        1\n",
       "97  1.269029         0.060956          1.156652       0.550933        1\n",
       "98  2.899743         0.258122          0.574040       0.645283        4\n",
       "99  1.745324         0.709161          1.215394       1.640087        4\n",
       "\n",
       "[100 rows x 5 columns]"
      ]
     },
     "execution_count": 192,
     "metadata": {},
     "output_type": "execute_result"
    }
   ],
   "source": [
    "scaled_df['cluster'] = y_km+1\n",
    "\n",
    "scaled_df.head(100)"
   ]
  },
  {
   "cell_type": "code",
   "execution_count": 193,
   "metadata": {},
   "outputs": [
    {
     "data": {
      "text/plain": [
       "<bound method DataFrame.info of        income  Savings Balance  Chequing Balance  Owing Balance  cluster\n",
       "0    0.317931         0.005612          1.367966       1.410684        1\n",
       "1    2.294495         0.265302          0.003671       0.000000        1\n",
       "2    2.144603         0.110600          0.556135       0.062578        1\n",
       "3    0.000000         1.263246          0.143659       0.911160        1\n",
       "4    0.092852         0.021504          0.015015       2.733479        4\n",
       "..        ...              ...               ...            ...      ...\n",
       "247  0.000000         0.151946          0.797226       0.911160        1\n",
       "248  1.762412         0.374848          0.923634       0.880107        1\n",
       "249  2.109705         0.380165          0.984007       0.394924        1\n",
       "250  0.471818         0.111075          0.073328       0.976918        1\n",
       "251  1.761978         0.221296          0.448140       1.640087        4\n",
       "\n",
       "[252 rows x 5 columns]>"
      ]
     },
     "execution_count": 193,
     "metadata": {},
     "output_type": "execute_result"
    }
   ],
   "source": [
    "scaled_df.info"
   ]
  },
  {
   "cell_type": "code",
   "execution_count": 194,
   "metadata": {},
   "outputs": [
    {
     "data": {
      "text/html": [
       "<div>\n",
       "<style scoped>\n",
       "    .dataframe tbody tr th:only-of-type {\n",
       "        vertical-align: middle;\n",
       "    }\n",
       "\n",
       "    .dataframe tbody tr th {\n",
       "        vertical-align: top;\n",
       "    }\n",
       "\n",
       "    .dataframe thead th {\n",
       "        text-align: right;\n",
       "    }\n",
       "</style>\n",
       "<table border=\"1\" class=\"dataframe\">\n",
       "  <thead>\n",
       "    <tr style=\"text-align: right;\">\n",
       "      <th></th>\n",
       "      <th>income</th>\n",
       "      <th>Savings Balance</th>\n",
       "      <th>Chequing Balance</th>\n",
       "      <th>Owing Balance</th>\n",
       "      <th>cluster</th>\n",
       "    </tr>\n",
       "  </thead>\n",
       "  <tbody>\n",
       "    <tr>\n",
       "      <th>0</th>\n",
       "      <td>0.317931</td>\n",
       "      <td>0.005612</td>\n",
       "      <td>1.367966</td>\n",
       "      <td>1.410684</td>\n",
       "      <td>1</td>\n",
       "    </tr>\n",
       "    <tr>\n",
       "      <th>1</th>\n",
       "      <td>2.294495</td>\n",
       "      <td>0.265302</td>\n",
       "      <td>0.003671</td>\n",
       "      <td>0.000000</td>\n",
       "      <td>1</td>\n",
       "    </tr>\n",
       "    <tr>\n",
       "      <th>2</th>\n",
       "      <td>2.144603</td>\n",
       "      <td>0.110600</td>\n",
       "      <td>0.556135</td>\n",
       "      <td>0.062578</td>\n",
       "      <td>1</td>\n",
       "    </tr>\n",
       "    <tr>\n",
       "      <th>3</th>\n",
       "      <td>0.000000</td>\n",
       "      <td>1.263246</td>\n",
       "      <td>0.143659</td>\n",
       "      <td>0.911160</td>\n",
       "      <td>1</td>\n",
       "    </tr>\n",
       "    <tr>\n",
       "      <th>4</th>\n",
       "      <td>0.092852</td>\n",
       "      <td>0.021504</td>\n",
       "      <td>0.015015</td>\n",
       "      <td>2.733479</td>\n",
       "      <td>4</td>\n",
       "    </tr>\n",
       "    <tr>\n",
       "      <th>...</th>\n",
       "      <td>...</td>\n",
       "      <td>...</td>\n",
       "      <td>...</td>\n",
       "      <td>...</td>\n",
       "      <td>...</td>\n",
       "    </tr>\n",
       "    <tr>\n",
       "      <th>247</th>\n",
       "      <td>0.000000</td>\n",
       "      <td>0.151946</td>\n",
       "      <td>0.797226</td>\n",
       "      <td>0.911160</td>\n",
       "      <td>1</td>\n",
       "    </tr>\n",
       "    <tr>\n",
       "      <th>248</th>\n",
       "      <td>1.762412</td>\n",
       "      <td>0.374848</td>\n",
       "      <td>0.923634</td>\n",
       "      <td>0.880107</td>\n",
       "      <td>1</td>\n",
       "    </tr>\n",
       "    <tr>\n",
       "      <th>249</th>\n",
       "      <td>2.109705</td>\n",
       "      <td>0.380165</td>\n",
       "      <td>0.984007</td>\n",
       "      <td>0.394924</td>\n",
       "      <td>1</td>\n",
       "    </tr>\n",
       "    <tr>\n",
       "      <th>250</th>\n",
       "      <td>0.471818</td>\n",
       "      <td>0.111075</td>\n",
       "      <td>0.073328</td>\n",
       "      <td>0.976918</td>\n",
       "      <td>1</td>\n",
       "    </tr>\n",
       "    <tr>\n",
       "      <th>251</th>\n",
       "      <td>1.761978</td>\n",
       "      <td>0.221296</td>\n",
       "      <td>0.448140</td>\n",
       "      <td>1.640087</td>\n",
       "      <td>4</td>\n",
       "    </tr>\n",
       "  </tbody>\n",
       "</table>\n",
       "<p>252 rows × 5 columns</p>\n",
       "</div>"
      ],
      "text/plain": [
       "       income  Savings Balance  Chequing Balance  Owing Balance  cluster\n",
       "0    0.317931         0.005612          1.367966       1.410684        1\n",
       "1    2.294495         0.265302          0.003671       0.000000        1\n",
       "2    2.144603         0.110600          0.556135       0.062578        1\n",
       "3    0.000000         1.263246          0.143659       0.911160        1\n",
       "4    0.092852         0.021504          0.015015       2.733479        4\n",
       "..        ...              ...               ...            ...      ...\n",
       "247  0.000000         0.151946          0.797226       0.911160        1\n",
       "248  1.762412         0.374848          0.923634       0.880107        1\n",
       "249  2.109705         0.380165          0.984007       0.394924        1\n",
       "250  0.471818         0.111075          0.073328       0.976918        1\n",
       "251  1.761978         0.221296          0.448140       1.640087        4\n",
       "\n",
       "[252 rows x 5 columns]"
      ]
     },
     "execution_count": 194,
     "metadata": {},
     "output_type": "execute_result"
    }
   ],
   "source": [
    "scaled_copy = scaled_df.copy()\n",
    "scaled_copy"
   ]
  },
  {
   "cell_type": "code",
   "execution_count": 198,
   "metadata": {},
   "outputs": [],
   "source": [
    "import seaborn as sns"
   ]
  },
  {
   "cell_type": "code",
   "execution_count": 207,
   "metadata": {},
   "outputs": [
    {
     "data": {
      "text/plain": [
       "<AxesSubplot:xlabel='cluster', ylabel='Owing Balance'>"
      ]
     },
     "execution_count": 207,
     "metadata": {},
     "output_type": "execute_result"
    },
    {
     "data": {
      "image/png": "[encoded data removed]",
      "text/plain": [
       "<Figure size 720x720 with 4 Axes>"
      ]
     },
     "metadata": {
      "needs_background": "light"
     },
     "output_type": "display_data"
    }
   ],
   "source": [
    "fig, axes = plt.subplots(2, 2, figsize=(10, 10))\n",
    "\n",
    "fig.suptitle('Interpretation of Clusters')\n",
    "\n",
    "sns.boxplot(ax=axes[0, 0], data=scaled_copy, x='cluster', y='income')\n",
    "sns.boxplot(ax=axes[0, 1], data=scaled_copy, x='cluster', y='Savings Balance')\n",
    "sns.boxplot(ax=axes[1, 0], data=scaled_copy, x='cluster', y='Chequing Balance')\n",
    "sns.boxplot(ax=axes[1, 1], data=scaled_copy, x='cluster', y='Owing Balance')"
   ]
  },
  {
   "cell_type": "code",
   "execution_count": null,
   "metadata": {},
   "outputs": [],
   "source": []
  }
 ],
 "metadata": {
  "kernelspec": {
   "display_name": "Python 3 (ipykernel)",
   "language": "python",
   "name": "python3"
  },
  "language_info": {
   "codemirror_mode": {
    "name": "ipython",
    "version": 3
   },
   "file_extension": ".py",
   "mimetype": "text/x-python",
   "name": "python",
   "nbconvert_exporter": "python",
   "pygments_lexer": "ipython3",
   "version": "3.8.12"
  }
 },
 "nbformat": 4,
 "nbformat_minor": 4
}
